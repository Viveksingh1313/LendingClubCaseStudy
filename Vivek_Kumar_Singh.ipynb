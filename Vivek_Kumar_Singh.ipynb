{
  "nbformat": 4,
  "nbformat_minor": 0,
  "metadata": {
    "colab": {
      "provenance": []
    },
    "kernelspec": {
      "name": "python3",
      "display_name": "Python 3"
    },
    "language_info": {
      "name": "python"
    }
  },
  "cells": [
    {
      "cell_type": "code",
      "execution_count": 1,
      "metadata": {
        "colab": {
          "base_uri": "https://localhost:8080/",
          "height": 73
        },
        "id": "OnSthIVDpUpK",
        "outputId": "4252691b-4e52-485e-dd99-f4dddbfa5525"
      },
      "outputs": [
        {
          "output_type": "display_data",
          "data": {
            "text/plain": [
              "<IPython.core.display.HTML object>"
            ],
            "text/html": [
              "\n",
              "     <input type=\"file\" id=\"files-0e17ff6c-8385-42c1-8474-dc1b7d9c5647\" name=\"files[]\" multiple disabled\n",
              "        style=\"border:none\" />\n",
              "     <output id=\"result-0e17ff6c-8385-42c1-8474-dc1b7d9c5647\">\n",
              "      Upload widget is only available when the cell has been executed in the\n",
              "      current browser session. Please rerun this cell to enable.\n",
              "      </output>\n",
              "      <script>// Copyright 2017 Google LLC\n",
              "//\n",
              "// Licensed under the Apache License, Version 2.0 (the \"License\");\n",
              "// you may not use this file except in compliance with the License.\n",
              "// You may obtain a copy of the License at\n",
              "//\n",
              "//      http://www.apache.org/licenses/LICENSE-2.0\n",
              "//\n",
              "// Unless required by applicable law or agreed to in writing, software\n",
              "// distributed under the License is distributed on an \"AS IS\" BASIS,\n",
              "// WITHOUT WARRANTIES OR CONDITIONS OF ANY KIND, either express or implied.\n",
              "// See the License for the specific language governing permissions and\n",
              "// limitations under the License.\n",
              "\n",
              "/**\n",
              " * @fileoverview Helpers for google.colab Python module.\n",
              " */\n",
              "(function(scope) {\n",
              "function span(text, styleAttributes = {}) {\n",
              "  const element = document.createElement('span');\n",
              "  element.textContent = text;\n",
              "  for (const key of Object.keys(styleAttributes)) {\n",
              "    element.style[key] = styleAttributes[key];\n",
              "  }\n",
              "  return element;\n",
              "}\n",
              "\n",
              "// Max number of bytes which will be uploaded at a time.\n",
              "const MAX_PAYLOAD_SIZE = 100 * 1024;\n",
              "\n",
              "function _uploadFiles(inputId, outputId) {\n",
              "  const steps = uploadFilesStep(inputId, outputId);\n",
              "  const outputElement = document.getElementById(outputId);\n",
              "  // Cache steps on the outputElement to make it available for the next call\n",
              "  // to uploadFilesContinue from Python.\n",
              "  outputElement.steps = steps;\n",
              "\n",
              "  return _uploadFilesContinue(outputId);\n",
              "}\n",
              "\n",
              "// This is roughly an async generator (not supported in the browser yet),\n",
              "// where there are multiple asynchronous steps and the Python side is going\n",
              "// to poll for completion of each step.\n",
              "// This uses a Promise to block the python side on completion of each step,\n",
              "// then passes the result of the previous step as the input to the next step.\n",
              "function _uploadFilesContinue(outputId) {\n",
              "  const outputElement = document.getElementById(outputId);\n",
              "  const steps = outputElement.steps;\n",
              "\n",
              "  const next = steps.next(outputElement.lastPromiseValue);\n",
              "  return Promise.resolve(next.value.promise).then((value) => {\n",
              "    // Cache the last promise value to make it available to the next\n",
              "    // step of the generator.\n",
              "    outputElement.lastPromiseValue = value;\n",
              "    return next.value.response;\n",
              "  });\n",
              "}\n",
              "\n",
              "/**\n",
              " * Generator function which is called between each async step of the upload\n",
              " * process.\n",
              " * @param {string} inputId Element ID of the input file picker element.\n",
              " * @param {string} outputId Element ID of the output display.\n",
              " * @return {!Iterable<!Object>} Iterable of next steps.\n",
              " */\n",
              "function* uploadFilesStep(inputId, outputId) {\n",
              "  const inputElement = document.getElementById(inputId);\n",
              "  inputElement.disabled = false;\n",
              "\n",
              "  const outputElement = document.getElementById(outputId);\n",
              "  outputElement.innerHTML = '';\n",
              "\n",
              "  const pickedPromise = new Promise((resolve) => {\n",
              "    inputElement.addEventListener('change', (e) => {\n",
              "      resolve(e.target.files);\n",
              "    });\n",
              "  });\n",
              "\n",
              "  const cancel = document.createElement('button');\n",
              "  inputElement.parentElement.appendChild(cancel);\n",
              "  cancel.textContent = 'Cancel upload';\n",
              "  const cancelPromise = new Promise((resolve) => {\n",
              "    cancel.onclick = () => {\n",
              "      resolve(null);\n",
              "    };\n",
              "  });\n",
              "\n",
              "  // Wait for the user to pick the files.\n",
              "  const files = yield {\n",
              "    promise: Promise.race([pickedPromise, cancelPromise]),\n",
              "    response: {\n",
              "      action: 'starting',\n",
              "    }\n",
              "  };\n",
              "\n",
              "  cancel.remove();\n",
              "\n",
              "  // Disable the input element since further picks are not allowed.\n",
              "  inputElement.disabled = true;\n",
              "\n",
              "  if (!files) {\n",
              "    return {\n",
              "      response: {\n",
              "        action: 'complete',\n",
              "      }\n",
              "    };\n",
              "  }\n",
              "\n",
              "  for (const file of files) {\n",
              "    const li = document.createElement('li');\n",
              "    li.append(span(file.name, {fontWeight: 'bold'}));\n",
              "    li.append(span(\n",
              "        `(${file.type || 'n/a'}) - ${file.size} bytes, ` +\n",
              "        `last modified: ${\n",
              "            file.lastModifiedDate ? file.lastModifiedDate.toLocaleDateString() :\n",
              "                                    'n/a'} - `));\n",
              "    const percent = span('0% done');\n",
              "    li.appendChild(percent);\n",
              "\n",
              "    outputElement.appendChild(li);\n",
              "\n",
              "    const fileDataPromise = new Promise((resolve) => {\n",
              "      const reader = new FileReader();\n",
              "      reader.onload = (e) => {\n",
              "        resolve(e.target.result);\n",
              "      };\n",
              "      reader.readAsArrayBuffer(file);\n",
              "    });\n",
              "    // Wait for the data to be ready.\n",
              "    let fileData = yield {\n",
              "      promise: fileDataPromise,\n",
              "      response: {\n",
              "        action: 'continue',\n",
              "      }\n",
              "    };\n",
              "\n",
              "    // Use a chunked sending to avoid message size limits. See b/62115660.\n",
              "    let position = 0;\n",
              "    do {\n",
              "      const length = Math.min(fileData.byteLength - position, MAX_PAYLOAD_SIZE);\n",
              "      const chunk = new Uint8Array(fileData, position, length);\n",
              "      position += length;\n",
              "\n",
              "      const base64 = btoa(String.fromCharCode.apply(null, chunk));\n",
              "      yield {\n",
              "        response: {\n",
              "          action: 'append',\n",
              "          file: file.name,\n",
              "          data: base64,\n",
              "        },\n",
              "      };\n",
              "\n",
              "      let percentDone = fileData.byteLength === 0 ?\n",
              "          100 :\n",
              "          Math.round((position / fileData.byteLength) * 100);\n",
              "      percent.textContent = `${percentDone}% done`;\n",
              "\n",
              "    } while (position < fileData.byteLength);\n",
              "  }\n",
              "\n",
              "  // All done.\n",
              "  yield {\n",
              "    response: {\n",
              "      action: 'complete',\n",
              "    }\n",
              "  };\n",
              "}\n",
              "\n",
              "scope.google = scope.google || {};\n",
              "scope.google.colab = scope.google.colab || {};\n",
              "scope.google.colab._files = {\n",
              "  _uploadFiles,\n",
              "  _uploadFilesContinue,\n",
              "};\n",
              "})(self);\n",
              "</script> "
            ]
          },
          "metadata": {}
        },
        {
          "output_type": "stream",
          "name": "stdout",
          "text": [
            "Saving loan.csv to loan.csv\n"
          ]
        }
      ],
      "source": [
        "from google.colab import files\n",
        "uploaded = files.upload()"
      ]
    },
    {
      "cell_type": "code",
      "source": [
        "# Supress Warnings\n",
        "import warnings\n",
        "warnings.filterwarnings('ignore')\n",
        "\n",
        "# Import the numpy and pandas package\n",
        "\n",
        "import numpy as np\n",
        "import pandas as pd\n",
        "\n",
        "# Data Visualisation\n",
        "\n",
        "import matplotlib.pyplot as plt\n",
        "import seaborn as sns"
      ],
      "metadata": {
        "id": "fDGLfGAp4PJG"
      },
      "execution_count": 3,
      "outputs": []
    },
    {
      "cell_type": "code",
      "source": [
        "#Importing dataset\n",
        "loans = pd.DataFrame(pd.read_csv(\"loan.csv\"))\n",
        "loans.head()"
      ],
      "metadata": {
        "colab": {
          "base_uri": "https://localhost:8080/",
          "height": 342
        },
        "id": "VWLFw1rG4a1Z",
        "outputId": "26a000e5-8a23-42e8-bb33-d2eb5a56138e"
      },
      "execution_count": 4,
      "outputs": [
        {
          "output_type": "execute_result",
          "data": {
            "text/plain": [
              "        id  member_id  loan_amnt  funded_amnt  funded_amnt_inv        term  \\\n",
              "0  1077501    1296599       5000         5000           4975.0   36 months   \n",
              "1  1077430    1314167       2500         2500           2500.0   60 months   \n",
              "2  1077175    1313524       2400         2400           2400.0   36 months   \n",
              "3  1076863    1277178      10000        10000          10000.0   36 months   \n",
              "4  1075358    1311748       3000         3000           3000.0   60 months   \n",
              "\n",
              "  int_rate  installment grade sub_grade  ... num_tl_90g_dpd_24m  \\\n",
              "0   10.65%       162.87     B        B2  ...                NaN   \n",
              "1   15.27%        59.83     C        C4  ...                NaN   \n",
              "2   15.96%        84.33     C        C5  ...                NaN   \n",
              "3   13.49%       339.31     C        C1  ...                NaN   \n",
              "4   12.69%        67.79     B        B5  ...                NaN   \n",
              "\n",
              "  num_tl_op_past_12m pct_tl_nvr_dlq  percent_bc_gt_75 pub_rec_bankruptcies  \\\n",
              "0                NaN            NaN               NaN                  0.0   \n",
              "1                NaN            NaN               NaN                  0.0   \n",
              "2                NaN            NaN               NaN                  0.0   \n",
              "3                NaN            NaN               NaN                  0.0   \n",
              "4                NaN            NaN               NaN                  0.0   \n",
              "\n",
              "  tax_liens tot_hi_cred_lim total_bal_ex_mort total_bc_limit  \\\n",
              "0       0.0             NaN               NaN            NaN   \n",
              "1       0.0             NaN               NaN            NaN   \n",
              "2       0.0             NaN               NaN            NaN   \n",
              "3       0.0             NaN               NaN            NaN   \n",
              "4       0.0             NaN               NaN            NaN   \n",
              "\n",
              "  total_il_high_credit_limit  \n",
              "0                        NaN  \n",
              "1                        NaN  \n",
              "2                        NaN  \n",
              "3                        NaN  \n",
              "4                        NaN  \n",
              "\n",
              "[5 rows x 111 columns]"
            ],
            "text/html": [
              "\n",
              "  <div id=\"df-e8f435f9-ef30-4a90-b94e-db950f00a5a6\" class=\"colab-df-container\">\n",
              "    <div>\n",
              "<style scoped>\n",
              "    .dataframe tbody tr th:only-of-type {\n",
              "        vertical-align: middle;\n",
              "    }\n",
              "\n",
              "    .dataframe tbody tr th {\n",
              "        vertical-align: top;\n",
              "    }\n",
              "\n",
              "    .dataframe thead th {\n",
              "        text-align: right;\n",
              "    }\n",
              "</style>\n",
              "<table border=\"1\" class=\"dataframe\">\n",
              "  <thead>\n",
              "    <tr style=\"text-align: right;\">\n",
              "      <th></th>\n",
              "      <th>id</th>\n",
              "      <th>member_id</th>\n",
              "      <th>loan_amnt</th>\n",
              "      <th>funded_amnt</th>\n",
              "      <th>funded_amnt_inv</th>\n",
              "      <th>term</th>\n",
              "      <th>int_rate</th>\n",
              "      <th>installment</th>\n",
              "      <th>grade</th>\n",
              "      <th>sub_grade</th>\n",
              "      <th>...</th>\n",
              "      <th>num_tl_90g_dpd_24m</th>\n",
              "      <th>num_tl_op_past_12m</th>\n",
              "      <th>pct_tl_nvr_dlq</th>\n",
              "      <th>percent_bc_gt_75</th>\n",
              "      <th>pub_rec_bankruptcies</th>\n",
              "      <th>tax_liens</th>\n",
              "      <th>tot_hi_cred_lim</th>\n",
              "      <th>total_bal_ex_mort</th>\n",
              "      <th>total_bc_limit</th>\n",
              "      <th>total_il_high_credit_limit</th>\n",
              "    </tr>\n",
              "  </thead>\n",
              "  <tbody>\n",
              "    <tr>\n",
              "      <th>0</th>\n",
              "      <td>1077501</td>\n",
              "      <td>1296599</td>\n",
              "      <td>5000</td>\n",
              "      <td>5000</td>\n",
              "      <td>4975.0</td>\n",
              "      <td>36 months</td>\n",
              "      <td>10.65%</td>\n",
              "      <td>162.87</td>\n",
              "      <td>B</td>\n",
              "      <td>B2</td>\n",
              "      <td>...</td>\n",
              "      <td>NaN</td>\n",
              "      <td>NaN</td>\n",
              "      <td>NaN</td>\n",
              "      <td>NaN</td>\n",
              "      <td>0.0</td>\n",
              "      <td>0.0</td>\n",
              "      <td>NaN</td>\n",
              "      <td>NaN</td>\n",
              "      <td>NaN</td>\n",
              "      <td>NaN</td>\n",
              "    </tr>\n",
              "    <tr>\n",
              "      <th>1</th>\n",
              "      <td>1077430</td>\n",
              "      <td>1314167</td>\n",
              "      <td>2500</td>\n",
              "      <td>2500</td>\n",
              "      <td>2500.0</td>\n",
              "      <td>60 months</td>\n",
              "      <td>15.27%</td>\n",
              "      <td>59.83</td>\n",
              "      <td>C</td>\n",
              "      <td>C4</td>\n",
              "      <td>...</td>\n",
              "      <td>NaN</td>\n",
              "      <td>NaN</td>\n",
              "      <td>NaN</td>\n",
              "      <td>NaN</td>\n",
              "      <td>0.0</td>\n",
              "      <td>0.0</td>\n",
              "      <td>NaN</td>\n",
              "      <td>NaN</td>\n",
              "      <td>NaN</td>\n",
              "      <td>NaN</td>\n",
              "    </tr>\n",
              "    <tr>\n",
              "      <th>2</th>\n",
              "      <td>1077175</td>\n",
              "      <td>1313524</td>\n",
              "      <td>2400</td>\n",
              "      <td>2400</td>\n",
              "      <td>2400.0</td>\n",
              "      <td>36 months</td>\n",
              "      <td>15.96%</td>\n",
              "      <td>84.33</td>\n",
              "      <td>C</td>\n",
              "      <td>C5</td>\n",
              "      <td>...</td>\n",
              "      <td>NaN</td>\n",
              "      <td>NaN</td>\n",
              "      <td>NaN</td>\n",
              "      <td>NaN</td>\n",
              "      <td>0.0</td>\n",
              "      <td>0.0</td>\n",
              "      <td>NaN</td>\n",
              "      <td>NaN</td>\n",
              "      <td>NaN</td>\n",
              "      <td>NaN</td>\n",
              "    </tr>\n",
              "    <tr>\n",
              "      <th>3</th>\n",
              "      <td>1076863</td>\n",
              "      <td>1277178</td>\n",
              "      <td>10000</td>\n",
              "      <td>10000</td>\n",
              "      <td>10000.0</td>\n",
              "      <td>36 months</td>\n",
              "      <td>13.49%</td>\n",
              "      <td>339.31</td>\n",
              "      <td>C</td>\n",
              "      <td>C1</td>\n",
              "      <td>...</td>\n",
              "      <td>NaN</td>\n",
              "      <td>NaN</td>\n",
              "      <td>NaN</td>\n",
              "      <td>NaN</td>\n",
              "      <td>0.0</td>\n",
              "      <td>0.0</td>\n",
              "      <td>NaN</td>\n",
              "      <td>NaN</td>\n",
              "      <td>NaN</td>\n",
              "      <td>NaN</td>\n",
              "    </tr>\n",
              "    <tr>\n",
              "      <th>4</th>\n",
              "      <td>1075358</td>\n",
              "      <td>1311748</td>\n",
              "      <td>3000</td>\n",
              "      <td>3000</td>\n",
              "      <td>3000.0</td>\n",
              "      <td>60 months</td>\n",
              "      <td>12.69%</td>\n",
              "      <td>67.79</td>\n",
              "      <td>B</td>\n",
              "      <td>B5</td>\n",
              "      <td>...</td>\n",
              "      <td>NaN</td>\n",
              "      <td>NaN</td>\n",
              "      <td>NaN</td>\n",
              "      <td>NaN</td>\n",
              "      <td>0.0</td>\n",
              "      <td>0.0</td>\n",
              "      <td>NaN</td>\n",
              "      <td>NaN</td>\n",
              "      <td>NaN</td>\n",
              "      <td>NaN</td>\n",
              "    </tr>\n",
              "  </tbody>\n",
              "</table>\n",
              "<p>5 rows × 111 columns</p>\n",
              "</div>\n",
              "    <div class=\"colab-df-buttons\">\n",
              "\n",
              "  <div class=\"colab-df-container\">\n",
              "    <button class=\"colab-df-convert\" onclick=\"convertToInteractive('df-e8f435f9-ef30-4a90-b94e-db950f00a5a6')\"\n",
              "            title=\"Convert this dataframe to an interactive table.\"\n",
              "            style=\"display:none;\">\n",
              "\n",
              "  <svg xmlns=\"http://www.w3.org/2000/svg\" height=\"24px\" viewBox=\"0 -960 960 960\">\n",
              "    <path d=\"M120-120v-720h720v720H120Zm60-500h600v-160H180v160Zm220 220h160v-160H400v160Zm0 220h160v-160H400v160ZM180-400h160v-160H180v160Zm440 0h160v-160H620v160ZM180-180h160v-160H180v160Zm440 0h160v-160H620v160Z\"/>\n",
              "  </svg>\n",
              "    </button>\n",
              "\n",
              "  <style>\n",
              "    .colab-df-container {\n",
              "      display:flex;\n",
              "      gap: 12px;\n",
              "    }\n",
              "\n",
              "    .colab-df-convert {\n",
              "      background-color: #E8F0FE;\n",
              "      border: none;\n",
              "      border-radius: 50%;\n",
              "      cursor: pointer;\n",
              "      display: none;\n",
              "      fill: #1967D2;\n",
              "      height: 32px;\n",
              "      padding: 0 0 0 0;\n",
              "      width: 32px;\n",
              "    }\n",
              "\n",
              "    .colab-df-convert:hover {\n",
              "      background-color: #E2EBFA;\n",
              "      box-shadow: 0px 1px 2px rgba(60, 64, 67, 0.3), 0px 1px 3px 1px rgba(60, 64, 67, 0.15);\n",
              "      fill: #174EA6;\n",
              "    }\n",
              "\n",
              "    .colab-df-buttons div {\n",
              "      margin-bottom: 4px;\n",
              "    }\n",
              "\n",
              "    [theme=dark] .colab-df-convert {\n",
              "      background-color: #3B4455;\n",
              "      fill: #D2E3FC;\n",
              "    }\n",
              "\n",
              "    [theme=dark] .colab-df-convert:hover {\n",
              "      background-color: #434B5C;\n",
              "      box-shadow: 0px 1px 3px 1px rgba(0, 0, 0, 0.15);\n",
              "      filter: drop-shadow(0px 1px 2px rgba(0, 0, 0, 0.3));\n",
              "      fill: #FFFFFF;\n",
              "    }\n",
              "  </style>\n",
              "\n",
              "    <script>\n",
              "      const buttonEl =\n",
              "        document.querySelector('#df-e8f435f9-ef30-4a90-b94e-db950f00a5a6 button.colab-df-convert');\n",
              "      buttonEl.style.display =\n",
              "        google.colab.kernel.accessAllowed ? 'block' : 'none';\n",
              "\n",
              "      async function convertToInteractive(key) {\n",
              "        const element = document.querySelector('#df-e8f435f9-ef30-4a90-b94e-db950f00a5a6');\n",
              "        const dataTable =\n",
              "          await google.colab.kernel.invokeFunction('convertToInteractive',\n",
              "                                                    [key], {});\n",
              "        if (!dataTable) return;\n",
              "\n",
              "        const docLinkHtml = 'Like what you see? Visit the ' +\n",
              "          '<a target=\"_blank\" href=https://colab.research.google.com/notebooks/data_table.ipynb>data table notebook</a>'\n",
              "          + ' to learn more about interactive tables.';\n",
              "        element.innerHTML = '';\n",
              "        dataTable['output_type'] = 'display_data';\n",
              "        await google.colab.output.renderOutput(dataTable, element);\n",
              "        const docLink = document.createElement('div');\n",
              "        docLink.innerHTML = docLinkHtml;\n",
              "        element.appendChild(docLink);\n",
              "      }\n",
              "    </script>\n",
              "  </div>\n",
              "\n",
              "\n",
              "<div id=\"df-624749d9-5061-4c38-b390-9434a1d1146b\">\n",
              "  <button class=\"colab-df-quickchart\" onclick=\"quickchart('df-624749d9-5061-4c38-b390-9434a1d1146b')\"\n",
              "            title=\"Suggest charts\"\n",
              "            style=\"display:none;\">\n",
              "\n",
              "<svg xmlns=\"http://www.w3.org/2000/svg\" height=\"24px\"viewBox=\"0 0 24 24\"\n",
              "     width=\"24px\">\n",
              "    <g>\n",
              "        <path d=\"M19 3H5c-1.1 0-2 .9-2 2v14c0 1.1.9 2 2 2h14c1.1 0 2-.9 2-2V5c0-1.1-.9-2-2-2zM9 17H7v-7h2v7zm4 0h-2V7h2v10zm4 0h-2v-4h2v4z\"/>\n",
              "    </g>\n",
              "</svg>\n",
              "  </button>\n",
              "\n",
              "<style>\n",
              "  .colab-df-quickchart {\n",
              "      --bg-color: #E8F0FE;\n",
              "      --fill-color: #1967D2;\n",
              "      --hover-bg-color: #E2EBFA;\n",
              "      --hover-fill-color: #174EA6;\n",
              "      --disabled-fill-color: #AAA;\n",
              "      --disabled-bg-color: #DDD;\n",
              "  }\n",
              "\n",
              "  [theme=dark] .colab-df-quickchart {\n",
              "      --bg-color: #3B4455;\n",
              "      --fill-color: #D2E3FC;\n",
              "      --hover-bg-color: #434B5C;\n",
              "      --hover-fill-color: #FFFFFF;\n",
              "      --disabled-bg-color: #3B4455;\n",
              "      --disabled-fill-color: #666;\n",
              "  }\n",
              "\n",
              "  .colab-df-quickchart {\n",
              "    background-color: var(--bg-color);\n",
              "    border: none;\n",
              "    border-radius: 50%;\n",
              "    cursor: pointer;\n",
              "    display: none;\n",
              "    fill: var(--fill-color);\n",
              "    height: 32px;\n",
              "    padding: 0;\n",
              "    width: 32px;\n",
              "  }\n",
              "\n",
              "  .colab-df-quickchart:hover {\n",
              "    background-color: var(--hover-bg-color);\n",
              "    box-shadow: 0 1px 2px rgba(60, 64, 67, 0.3), 0 1px 3px 1px rgba(60, 64, 67, 0.15);\n",
              "    fill: var(--button-hover-fill-color);\n",
              "  }\n",
              "\n",
              "  .colab-df-quickchart-complete:disabled,\n",
              "  .colab-df-quickchart-complete:disabled:hover {\n",
              "    background-color: var(--disabled-bg-color);\n",
              "    fill: var(--disabled-fill-color);\n",
              "    box-shadow: none;\n",
              "  }\n",
              "\n",
              "  .colab-df-spinner {\n",
              "    border: 2px solid var(--fill-color);\n",
              "    border-color: transparent;\n",
              "    border-bottom-color: var(--fill-color);\n",
              "    animation:\n",
              "      spin 1s steps(1) infinite;\n",
              "  }\n",
              "\n",
              "  @keyframes spin {\n",
              "    0% {\n",
              "      border-color: transparent;\n",
              "      border-bottom-color: var(--fill-color);\n",
              "      border-left-color: var(--fill-color);\n",
              "    }\n",
              "    20% {\n",
              "      border-color: transparent;\n",
              "      border-left-color: var(--fill-color);\n",
              "      border-top-color: var(--fill-color);\n",
              "    }\n",
              "    30% {\n",
              "      border-color: transparent;\n",
              "      border-left-color: var(--fill-color);\n",
              "      border-top-color: var(--fill-color);\n",
              "      border-right-color: var(--fill-color);\n",
              "    }\n",
              "    40% {\n",
              "      border-color: transparent;\n",
              "      border-right-color: var(--fill-color);\n",
              "      border-top-color: var(--fill-color);\n",
              "    }\n",
              "    60% {\n",
              "      border-color: transparent;\n",
              "      border-right-color: var(--fill-color);\n",
              "    }\n",
              "    80% {\n",
              "      border-color: transparent;\n",
              "      border-right-color: var(--fill-color);\n",
              "      border-bottom-color: var(--fill-color);\n",
              "    }\n",
              "    90% {\n",
              "      border-color: transparent;\n",
              "      border-bottom-color: var(--fill-color);\n",
              "    }\n",
              "  }\n",
              "</style>\n",
              "\n",
              "  <script>\n",
              "    async function quickchart(key) {\n",
              "      const quickchartButtonEl =\n",
              "        document.querySelector('#' + key + ' button');\n",
              "      quickchartButtonEl.disabled = true;  // To prevent multiple clicks.\n",
              "      quickchartButtonEl.classList.add('colab-df-spinner');\n",
              "      try {\n",
              "        const charts = await google.colab.kernel.invokeFunction(\n",
              "            'suggestCharts', [key], {});\n",
              "      } catch (error) {\n",
              "        console.error('Error during call to suggestCharts:', error);\n",
              "      }\n",
              "      quickchartButtonEl.classList.remove('colab-df-spinner');\n",
              "      quickchartButtonEl.classList.add('colab-df-quickchart-complete');\n",
              "    }\n",
              "    (() => {\n",
              "      let quickchartButtonEl =\n",
              "        document.querySelector('#df-624749d9-5061-4c38-b390-9434a1d1146b button');\n",
              "      quickchartButtonEl.style.display =\n",
              "        google.colab.kernel.accessAllowed ? 'block' : 'none';\n",
              "    })();\n",
              "  </script>\n",
              "</div>\n",
              "    </div>\n",
              "  </div>\n"
            ]
          },
          "metadata": {},
          "execution_count": 4
        }
      ]
    },
    {
      "cell_type": "code",
      "source": [
        "loans.shape"
      ],
      "metadata": {
        "colab": {
          "base_uri": "https://localhost:8080/"
        },
        "id": "efVw-u3n7GpU",
        "outputId": "2c292afd-5808-4a9f-90f2-b2b1808deb34"
      },
      "execution_count": 5,
      "outputs": [
        {
          "output_type": "execute_result",
          "data": {
            "text/plain": [
              "(39717, 111)"
            ]
          },
          "metadata": {},
          "execution_count": 5
        }
      ]
    },
    {
      "cell_type": "code",
      "source": [
        "loans.info()"
      ],
      "metadata": {
        "colab": {
          "base_uri": "https://localhost:8080/"
        },
        "id": "re41VSpT7INM",
        "outputId": "7424f3c3-c42f-4c99-94d0-611f4c6f72e0"
      },
      "execution_count": 6,
      "outputs": [
        {
          "output_type": "stream",
          "name": "stdout",
          "text": [
            "<class 'pandas.core.frame.DataFrame'>\n",
            "RangeIndex: 39717 entries, 0 to 39716\n",
            "Columns: 111 entries, id to total_il_high_credit_limit\n",
            "dtypes: float64(74), int64(13), object(24)\n",
            "memory usage: 33.6+ MB\n"
          ]
        }
      ]
    },
    {
      "cell_type": "code",
      "source": [
        "loans.describe()"
      ],
      "metadata": {
        "colab": {
          "base_uri": "https://localhost:8080/",
          "height": 349
        },
        "id": "-WWFeIL67Jk6",
        "outputId": "cec25bd0-838c-48e8-9713-155985f0d4d7"
      },
      "execution_count": 7,
      "outputs": [
        {
          "output_type": "execute_result",
          "data": {
            "text/plain": [
              "                 id     member_id     loan_amnt   funded_amnt  \\\n",
              "count  3.971700e+04  3.971700e+04  39717.000000  39717.000000   \n",
              "mean   6.831319e+05  8.504636e+05  11219.443815  10947.713196   \n",
              "std    2.106941e+05  2.656783e+05   7456.670694   7187.238670   \n",
              "min    5.473400e+04  7.069900e+04    500.000000    500.000000   \n",
              "25%    5.162210e+05  6.667800e+05   5500.000000   5400.000000   \n",
              "50%    6.656650e+05  8.508120e+05  10000.000000   9600.000000   \n",
              "75%    8.377550e+05  1.047339e+06  15000.000000  15000.000000   \n",
              "max    1.077501e+06  1.314167e+06  35000.000000  35000.000000   \n",
              "\n",
              "       funded_amnt_inv   installment    annual_inc           dti  \\\n",
              "count     39717.000000  39717.000000  3.971700e+04  39717.000000   \n",
              "mean      10397.448868    324.561922  6.896893e+04     13.315130   \n",
              "std        7128.450439    208.874874  6.379377e+04      6.678594   \n",
              "min           0.000000     15.690000  4.000000e+03      0.000000   \n",
              "25%        5000.000000    167.020000  4.040400e+04      8.170000   \n",
              "50%        8975.000000    280.220000  5.900000e+04     13.400000   \n",
              "75%       14400.000000    430.780000  8.230000e+04     18.600000   \n",
              "max       35000.000000   1305.190000  6.000000e+06     29.990000   \n",
              "\n",
              "        delinq_2yrs  inq_last_6mths  ...  num_tl_90g_dpd_24m  \\\n",
              "count  39717.000000    39717.000000  ...                 0.0   \n",
              "mean       0.146512        0.869200  ...                 NaN   \n",
              "std        0.491812        1.070219  ...                 NaN   \n",
              "min        0.000000        0.000000  ...                 NaN   \n",
              "25%        0.000000        0.000000  ...                 NaN   \n",
              "50%        0.000000        1.000000  ...                 NaN   \n",
              "75%        0.000000        1.000000  ...                 NaN   \n",
              "max       11.000000        8.000000  ...                 NaN   \n",
              "\n",
              "       num_tl_op_past_12m  pct_tl_nvr_dlq  percent_bc_gt_75  \\\n",
              "count                 0.0             0.0               0.0   \n",
              "mean                  NaN             NaN               NaN   \n",
              "std                   NaN             NaN               NaN   \n",
              "min                   NaN             NaN               NaN   \n",
              "25%                   NaN             NaN               NaN   \n",
              "50%                   NaN             NaN               NaN   \n",
              "75%                   NaN             NaN               NaN   \n",
              "max                   NaN             NaN               NaN   \n",
              "\n",
              "       pub_rec_bankruptcies  tax_liens  tot_hi_cred_lim  total_bal_ex_mort  \\\n",
              "count          39020.000000    39678.0              0.0                0.0   \n",
              "mean               0.043260        0.0              NaN                NaN   \n",
              "std                0.204324        0.0              NaN                NaN   \n",
              "min                0.000000        0.0              NaN                NaN   \n",
              "25%                0.000000        0.0              NaN                NaN   \n",
              "50%                0.000000        0.0              NaN                NaN   \n",
              "75%                0.000000        0.0              NaN                NaN   \n",
              "max                2.000000        0.0              NaN                NaN   \n",
              "\n",
              "       total_bc_limit  total_il_high_credit_limit  \n",
              "count             0.0                         0.0  \n",
              "mean              NaN                         NaN  \n",
              "std               NaN                         NaN  \n",
              "min               NaN                         NaN  \n",
              "25%               NaN                         NaN  \n",
              "50%               NaN                         NaN  \n",
              "75%               NaN                         NaN  \n",
              "max               NaN                         NaN  \n",
              "\n",
              "[8 rows x 87 columns]"
            ],
            "text/html": [
              "\n",
              "  <div id=\"df-a6916b88-0f45-431e-9086-b038e98b2961\" class=\"colab-df-container\">\n",
              "    <div>\n",
              "<style scoped>\n",
              "    .dataframe tbody tr th:only-of-type {\n",
              "        vertical-align: middle;\n",
              "    }\n",
              "\n",
              "    .dataframe tbody tr th {\n",
              "        vertical-align: top;\n",
              "    }\n",
              "\n",
              "    .dataframe thead th {\n",
              "        text-align: right;\n",
              "    }\n",
              "</style>\n",
              "<table border=\"1\" class=\"dataframe\">\n",
              "  <thead>\n",
              "    <tr style=\"text-align: right;\">\n",
              "      <th></th>\n",
              "      <th>id</th>\n",
              "      <th>member_id</th>\n",
              "      <th>loan_amnt</th>\n",
              "      <th>funded_amnt</th>\n",
              "      <th>funded_amnt_inv</th>\n",
              "      <th>installment</th>\n",
              "      <th>annual_inc</th>\n",
              "      <th>dti</th>\n",
              "      <th>delinq_2yrs</th>\n",
              "      <th>inq_last_6mths</th>\n",
              "      <th>...</th>\n",
              "      <th>num_tl_90g_dpd_24m</th>\n",
              "      <th>num_tl_op_past_12m</th>\n",
              "      <th>pct_tl_nvr_dlq</th>\n",
              "      <th>percent_bc_gt_75</th>\n",
              "      <th>pub_rec_bankruptcies</th>\n",
              "      <th>tax_liens</th>\n",
              "      <th>tot_hi_cred_lim</th>\n",
              "      <th>total_bal_ex_mort</th>\n",
              "      <th>total_bc_limit</th>\n",
              "      <th>total_il_high_credit_limit</th>\n",
              "    </tr>\n",
              "  </thead>\n",
              "  <tbody>\n",
              "    <tr>\n",
              "      <th>count</th>\n",
              "      <td>3.971700e+04</td>\n",
              "      <td>3.971700e+04</td>\n",
              "      <td>39717.000000</td>\n",
              "      <td>39717.000000</td>\n",
              "      <td>39717.000000</td>\n",
              "      <td>39717.000000</td>\n",
              "      <td>3.971700e+04</td>\n",
              "      <td>39717.000000</td>\n",
              "      <td>39717.000000</td>\n",
              "      <td>39717.000000</td>\n",
              "      <td>...</td>\n",
              "      <td>0.0</td>\n",
              "      <td>0.0</td>\n",
              "      <td>0.0</td>\n",
              "      <td>0.0</td>\n",
              "      <td>39020.000000</td>\n",
              "      <td>39678.0</td>\n",
              "      <td>0.0</td>\n",
              "      <td>0.0</td>\n",
              "      <td>0.0</td>\n",
              "      <td>0.0</td>\n",
              "    </tr>\n",
              "    <tr>\n",
              "      <th>mean</th>\n",
              "      <td>6.831319e+05</td>\n",
              "      <td>8.504636e+05</td>\n",
              "      <td>11219.443815</td>\n",
              "      <td>10947.713196</td>\n",
              "      <td>10397.448868</td>\n",
              "      <td>324.561922</td>\n",
              "      <td>6.896893e+04</td>\n",
              "      <td>13.315130</td>\n",
              "      <td>0.146512</td>\n",
              "      <td>0.869200</td>\n",
              "      <td>...</td>\n",
              "      <td>NaN</td>\n",
              "      <td>NaN</td>\n",
              "      <td>NaN</td>\n",
              "      <td>NaN</td>\n",
              "      <td>0.043260</td>\n",
              "      <td>0.0</td>\n",
              "      <td>NaN</td>\n",
              "      <td>NaN</td>\n",
              "      <td>NaN</td>\n",
              "      <td>NaN</td>\n",
              "    </tr>\n",
              "    <tr>\n",
              "      <th>std</th>\n",
              "      <td>2.106941e+05</td>\n",
              "      <td>2.656783e+05</td>\n",
              "      <td>7456.670694</td>\n",
              "      <td>7187.238670</td>\n",
              "      <td>7128.450439</td>\n",
              "      <td>208.874874</td>\n",
              "      <td>6.379377e+04</td>\n",
              "      <td>6.678594</td>\n",
              "      <td>0.491812</td>\n",
              "      <td>1.070219</td>\n",
              "      <td>...</td>\n",
              "      <td>NaN</td>\n",
              "      <td>NaN</td>\n",
              "      <td>NaN</td>\n",
              "      <td>NaN</td>\n",
              "      <td>0.204324</td>\n",
              "      <td>0.0</td>\n",
              "      <td>NaN</td>\n",
              "      <td>NaN</td>\n",
              "      <td>NaN</td>\n",
              "      <td>NaN</td>\n",
              "    </tr>\n",
              "    <tr>\n",
              "      <th>min</th>\n",
              "      <td>5.473400e+04</td>\n",
              "      <td>7.069900e+04</td>\n",
              "      <td>500.000000</td>\n",
              "      <td>500.000000</td>\n",
              "      <td>0.000000</td>\n",
              "      <td>15.690000</td>\n",
              "      <td>4.000000e+03</td>\n",
              "      <td>0.000000</td>\n",
              "      <td>0.000000</td>\n",
              "      <td>0.000000</td>\n",
              "      <td>...</td>\n",
              "      <td>NaN</td>\n",
              "      <td>NaN</td>\n",
              "      <td>NaN</td>\n",
              "      <td>NaN</td>\n",
              "      <td>0.000000</td>\n",
              "      <td>0.0</td>\n",
              "      <td>NaN</td>\n",
              "      <td>NaN</td>\n",
              "      <td>NaN</td>\n",
              "      <td>NaN</td>\n",
              "    </tr>\n",
              "    <tr>\n",
              "      <th>25%</th>\n",
              "      <td>5.162210e+05</td>\n",
              "      <td>6.667800e+05</td>\n",
              "      <td>5500.000000</td>\n",
              "      <td>5400.000000</td>\n",
              "      <td>5000.000000</td>\n",
              "      <td>167.020000</td>\n",
              "      <td>4.040400e+04</td>\n",
              "      <td>8.170000</td>\n",
              "      <td>0.000000</td>\n",
              "      <td>0.000000</td>\n",
              "      <td>...</td>\n",
              "      <td>NaN</td>\n",
              "      <td>NaN</td>\n",
              "      <td>NaN</td>\n",
              "      <td>NaN</td>\n",
              "      <td>0.000000</td>\n",
              "      <td>0.0</td>\n",
              "      <td>NaN</td>\n",
              "      <td>NaN</td>\n",
              "      <td>NaN</td>\n",
              "      <td>NaN</td>\n",
              "    </tr>\n",
              "    <tr>\n",
              "      <th>50%</th>\n",
              "      <td>6.656650e+05</td>\n",
              "      <td>8.508120e+05</td>\n",
              "      <td>10000.000000</td>\n",
              "      <td>9600.000000</td>\n",
              "      <td>8975.000000</td>\n",
              "      <td>280.220000</td>\n",
              "      <td>5.900000e+04</td>\n",
              "      <td>13.400000</td>\n",
              "      <td>0.000000</td>\n",
              "      <td>1.000000</td>\n",
              "      <td>...</td>\n",
              "      <td>NaN</td>\n",
              "      <td>NaN</td>\n",
              "      <td>NaN</td>\n",
              "      <td>NaN</td>\n",
              "      <td>0.000000</td>\n",
              "      <td>0.0</td>\n",
              "      <td>NaN</td>\n",
              "      <td>NaN</td>\n",
              "      <td>NaN</td>\n",
              "      <td>NaN</td>\n",
              "    </tr>\n",
              "    <tr>\n",
              "      <th>75%</th>\n",
              "      <td>8.377550e+05</td>\n",
              "      <td>1.047339e+06</td>\n",
              "      <td>15000.000000</td>\n",
              "      <td>15000.000000</td>\n",
              "      <td>14400.000000</td>\n",
              "      <td>430.780000</td>\n",
              "      <td>8.230000e+04</td>\n",
              "      <td>18.600000</td>\n",
              "      <td>0.000000</td>\n",
              "      <td>1.000000</td>\n",
              "      <td>...</td>\n",
              "      <td>NaN</td>\n",
              "      <td>NaN</td>\n",
              "      <td>NaN</td>\n",
              "      <td>NaN</td>\n",
              "      <td>0.000000</td>\n",
              "      <td>0.0</td>\n",
              "      <td>NaN</td>\n",
              "      <td>NaN</td>\n",
              "      <td>NaN</td>\n",
              "      <td>NaN</td>\n",
              "    </tr>\n",
              "    <tr>\n",
              "      <th>max</th>\n",
              "      <td>1.077501e+06</td>\n",
              "      <td>1.314167e+06</td>\n",
              "      <td>35000.000000</td>\n",
              "      <td>35000.000000</td>\n",
              "      <td>35000.000000</td>\n",
              "      <td>1305.190000</td>\n",
              "      <td>6.000000e+06</td>\n",
              "      <td>29.990000</td>\n",
              "      <td>11.000000</td>\n",
              "      <td>8.000000</td>\n",
              "      <td>...</td>\n",
              "      <td>NaN</td>\n",
              "      <td>NaN</td>\n",
              "      <td>NaN</td>\n",
              "      <td>NaN</td>\n",
              "      <td>2.000000</td>\n",
              "      <td>0.0</td>\n",
              "      <td>NaN</td>\n",
              "      <td>NaN</td>\n",
              "      <td>NaN</td>\n",
              "      <td>NaN</td>\n",
              "    </tr>\n",
              "  </tbody>\n",
              "</table>\n",
              "<p>8 rows × 87 columns</p>\n",
              "</div>\n",
              "    <div class=\"colab-df-buttons\">\n",
              "\n",
              "  <div class=\"colab-df-container\">\n",
              "    <button class=\"colab-df-convert\" onclick=\"convertToInteractive('df-a6916b88-0f45-431e-9086-b038e98b2961')\"\n",
              "            title=\"Convert this dataframe to an interactive table.\"\n",
              "            style=\"display:none;\">\n",
              "\n",
              "  <svg xmlns=\"http://www.w3.org/2000/svg\" height=\"24px\" viewBox=\"0 -960 960 960\">\n",
              "    <path d=\"M120-120v-720h720v720H120Zm60-500h600v-160H180v160Zm220 220h160v-160H400v160Zm0 220h160v-160H400v160ZM180-400h160v-160H180v160Zm440 0h160v-160H620v160ZM180-180h160v-160H180v160Zm440 0h160v-160H620v160Z\"/>\n",
              "  </svg>\n",
              "    </button>\n",
              "\n",
              "  <style>\n",
              "    .colab-df-container {\n",
              "      display:flex;\n",
              "      gap: 12px;\n",
              "    }\n",
              "\n",
              "    .colab-df-convert {\n",
              "      background-color: #E8F0FE;\n",
              "      border: none;\n",
              "      border-radius: 50%;\n",
              "      cursor: pointer;\n",
              "      display: none;\n",
              "      fill: #1967D2;\n",
              "      height: 32px;\n",
              "      padding: 0 0 0 0;\n",
              "      width: 32px;\n",
              "    }\n",
              "\n",
              "    .colab-df-convert:hover {\n",
              "      background-color: #E2EBFA;\n",
              "      box-shadow: 0px 1px 2px rgba(60, 64, 67, 0.3), 0px 1px 3px 1px rgba(60, 64, 67, 0.15);\n",
              "      fill: #174EA6;\n",
              "    }\n",
              "\n",
              "    .colab-df-buttons div {\n",
              "      margin-bottom: 4px;\n",
              "    }\n",
              "\n",
              "    [theme=dark] .colab-df-convert {\n",
              "      background-color: #3B4455;\n",
              "      fill: #D2E3FC;\n",
              "    }\n",
              "\n",
              "    [theme=dark] .colab-df-convert:hover {\n",
              "      background-color: #434B5C;\n",
              "      box-shadow: 0px 1px 3px 1px rgba(0, 0, 0, 0.15);\n",
              "      filter: drop-shadow(0px 1px 2px rgba(0, 0, 0, 0.3));\n",
              "      fill: #FFFFFF;\n",
              "    }\n",
              "  </style>\n",
              "\n",
              "    <script>\n",
              "      const buttonEl =\n",
              "        document.querySelector('#df-a6916b88-0f45-431e-9086-b038e98b2961 button.colab-df-convert');\n",
              "      buttonEl.style.display =\n",
              "        google.colab.kernel.accessAllowed ? 'block' : 'none';\n",
              "\n",
              "      async function convertToInteractive(key) {\n",
              "        const element = document.querySelector('#df-a6916b88-0f45-431e-9086-b038e98b2961');\n",
              "        const dataTable =\n",
              "          await google.colab.kernel.invokeFunction('convertToInteractive',\n",
              "                                                    [key], {});\n",
              "        if (!dataTable) return;\n",
              "\n",
              "        const docLinkHtml = 'Like what you see? Visit the ' +\n",
              "          '<a target=\"_blank\" href=https://colab.research.google.com/notebooks/data_table.ipynb>data table notebook</a>'\n",
              "          + ' to learn more about interactive tables.';\n",
              "        element.innerHTML = '';\n",
              "        dataTable['output_type'] = 'display_data';\n",
              "        await google.colab.output.renderOutput(dataTable, element);\n",
              "        const docLink = document.createElement('div');\n",
              "        docLink.innerHTML = docLinkHtml;\n",
              "        element.appendChild(docLink);\n",
              "      }\n",
              "    </script>\n",
              "  </div>\n",
              "\n",
              "\n",
              "<div id=\"df-6e8b7143-f5b7-4a7d-be5b-e78786bba4e4\">\n",
              "  <button class=\"colab-df-quickchart\" onclick=\"quickchart('df-6e8b7143-f5b7-4a7d-be5b-e78786bba4e4')\"\n",
              "            title=\"Suggest charts\"\n",
              "            style=\"display:none;\">\n",
              "\n",
              "<svg xmlns=\"http://www.w3.org/2000/svg\" height=\"24px\"viewBox=\"0 0 24 24\"\n",
              "     width=\"24px\">\n",
              "    <g>\n",
              "        <path d=\"M19 3H5c-1.1 0-2 .9-2 2v14c0 1.1.9 2 2 2h14c1.1 0 2-.9 2-2V5c0-1.1-.9-2-2-2zM9 17H7v-7h2v7zm4 0h-2V7h2v10zm4 0h-2v-4h2v4z\"/>\n",
              "    </g>\n",
              "</svg>\n",
              "  </button>\n",
              "\n",
              "<style>\n",
              "  .colab-df-quickchart {\n",
              "      --bg-color: #E8F0FE;\n",
              "      --fill-color: #1967D2;\n",
              "      --hover-bg-color: #E2EBFA;\n",
              "      --hover-fill-color: #174EA6;\n",
              "      --disabled-fill-color: #AAA;\n",
              "      --disabled-bg-color: #DDD;\n",
              "  }\n",
              "\n",
              "  [theme=dark] .colab-df-quickchart {\n",
              "      --bg-color: #3B4455;\n",
              "      --fill-color: #D2E3FC;\n",
              "      --hover-bg-color: #434B5C;\n",
              "      --hover-fill-color: #FFFFFF;\n",
              "      --disabled-bg-color: #3B4455;\n",
              "      --disabled-fill-color: #666;\n",
              "  }\n",
              "\n",
              "  .colab-df-quickchart {\n",
              "    background-color: var(--bg-color);\n",
              "    border: none;\n",
              "    border-radius: 50%;\n",
              "    cursor: pointer;\n",
              "    display: none;\n",
              "    fill: var(--fill-color);\n",
              "    height: 32px;\n",
              "    padding: 0;\n",
              "    width: 32px;\n",
              "  }\n",
              "\n",
              "  .colab-df-quickchart:hover {\n",
              "    background-color: var(--hover-bg-color);\n",
              "    box-shadow: 0 1px 2px rgba(60, 64, 67, 0.3), 0 1px 3px 1px rgba(60, 64, 67, 0.15);\n",
              "    fill: var(--button-hover-fill-color);\n",
              "  }\n",
              "\n",
              "  .colab-df-quickchart-complete:disabled,\n",
              "  .colab-df-quickchart-complete:disabled:hover {\n",
              "    background-color: var(--disabled-bg-color);\n",
              "    fill: var(--disabled-fill-color);\n",
              "    box-shadow: none;\n",
              "  }\n",
              "\n",
              "  .colab-df-spinner {\n",
              "    border: 2px solid var(--fill-color);\n",
              "    border-color: transparent;\n",
              "    border-bottom-color: var(--fill-color);\n",
              "    animation:\n",
              "      spin 1s steps(1) infinite;\n",
              "  }\n",
              "\n",
              "  @keyframes spin {\n",
              "    0% {\n",
              "      border-color: transparent;\n",
              "      border-bottom-color: var(--fill-color);\n",
              "      border-left-color: var(--fill-color);\n",
              "    }\n",
              "    20% {\n",
              "      border-color: transparent;\n",
              "      border-left-color: var(--fill-color);\n",
              "      border-top-color: var(--fill-color);\n",
              "    }\n",
              "    30% {\n",
              "      border-color: transparent;\n",
              "      border-left-color: var(--fill-color);\n",
              "      border-top-color: var(--fill-color);\n",
              "      border-right-color: var(--fill-color);\n",
              "    }\n",
              "    40% {\n",
              "      border-color: transparent;\n",
              "      border-right-color: var(--fill-color);\n",
              "      border-top-color: var(--fill-color);\n",
              "    }\n",
              "    60% {\n",
              "      border-color: transparent;\n",
              "      border-right-color: var(--fill-color);\n",
              "    }\n",
              "    80% {\n",
              "      border-color: transparent;\n",
              "      border-right-color: var(--fill-color);\n",
              "      border-bottom-color: var(--fill-color);\n",
              "    }\n",
              "    90% {\n",
              "      border-color: transparent;\n",
              "      border-bottom-color: var(--fill-color);\n",
              "    }\n",
              "  }\n",
              "</style>\n",
              "\n",
              "  <script>\n",
              "    async function quickchart(key) {\n",
              "      const quickchartButtonEl =\n",
              "        document.querySelector('#' + key + ' button');\n",
              "      quickchartButtonEl.disabled = true;  // To prevent multiple clicks.\n",
              "      quickchartButtonEl.classList.add('colab-df-spinner');\n",
              "      try {\n",
              "        const charts = await google.colab.kernel.invokeFunction(\n",
              "            'suggestCharts', [key], {});\n",
              "      } catch (error) {\n",
              "        console.error('Error during call to suggestCharts:', error);\n",
              "      }\n",
              "      quickchartButtonEl.classList.remove('colab-df-spinner');\n",
              "      quickchartButtonEl.classList.add('colab-df-quickchart-complete');\n",
              "    }\n",
              "    (() => {\n",
              "      let quickchartButtonEl =\n",
              "        document.querySelector('#df-6e8b7143-f5b7-4a7d-be5b-e78786bba4e4 button');\n",
              "      quickchartButtonEl.style.display =\n",
              "        google.colab.kernel.accessAllowed ? 'block' : 'none';\n",
              "    })();\n",
              "  </script>\n",
              "</div>\n",
              "    </div>\n",
              "  </div>\n"
            ]
          },
          "metadata": {},
          "execution_count": 7
        }
      ]
    },
    {
      "cell_type": "code",
      "source": [
        "loans.isnull().sum()*100/loans.shape[0]"
      ],
      "metadata": {
        "colab": {
          "base_uri": "https://localhost:8080/"
        },
        "id": "11ahBfUL7M9l",
        "outputId": "fb65013b-294c-4ae5-fb5c-15d0c32e789c"
      },
      "execution_count": 8,
      "outputs": [
        {
          "output_type": "execute_result",
          "data": {
            "text/plain": [
              "id                              0.000000\n",
              "member_id                       0.000000\n",
              "loan_amnt                       0.000000\n",
              "funded_amnt                     0.000000\n",
              "funded_amnt_inv                 0.000000\n",
              "                                 ...    \n",
              "tax_liens                       0.098195\n",
              "tot_hi_cred_lim               100.000000\n",
              "total_bal_ex_mort             100.000000\n",
              "total_bc_limit                100.000000\n",
              "total_il_high_credit_limit    100.000000\n",
              "Length: 111, dtype: float64"
            ]
          },
          "metadata": {},
          "execution_count": 8
        }
      ]
    },
    {
      "cell_type": "code",
      "source": [
        "# removing column which has more than 90% of NA / null values\n",
        "perc = 90.0 # Like N %\n",
        "min_count =  int(((100-perc)/100)*loans.shape[0] + 1)\n",
        "loans = loans.dropna( axis=1,\n",
        "                thresh=min_count)"
      ],
      "metadata": {
        "id": "jO_YMZy27Trg"
      },
      "execution_count": 9,
      "outputs": []
    },
    {
      "cell_type": "code",
      "source": [
        "loans.isnull().sum()*100/loans.shape[0]"
      ],
      "metadata": {
        "colab": {
          "base_uri": "https://localhost:8080/"
        },
        "id": "HElbTawj89IF",
        "outputId": "89f99c2f-a6ff-4cf8-fe49-b902f223f578"
      },
      "execution_count": 10,
      "outputs": [
        {
          "output_type": "execute_result",
          "data": {
            "text/plain": [
              "id                             0.000000\n",
              "member_id                      0.000000\n",
              "loan_amnt                      0.000000\n",
              "funded_amnt                    0.000000\n",
              "funded_amnt_inv                0.000000\n",
              "term                           0.000000\n",
              "int_rate                       0.000000\n",
              "installment                    0.000000\n",
              "grade                          0.000000\n",
              "sub_grade                      0.000000\n",
              "emp_title                      6.191303\n",
              "emp_length                     2.706650\n",
              "home_ownership                 0.000000\n",
              "annual_inc                     0.000000\n",
              "verification_status            0.000000\n",
              "issue_d                        0.000000\n",
              "loan_status                    0.000000\n",
              "pymnt_plan                     0.000000\n",
              "url                            0.000000\n",
              "desc                          32.580507\n",
              "purpose                        0.000000\n",
              "title                          0.027696\n",
              "zip_code                       0.000000\n",
              "addr_state                     0.000000\n",
              "dti                            0.000000\n",
              "delinq_2yrs                    0.000000\n",
              "earliest_cr_line               0.000000\n",
              "inq_last_6mths                 0.000000\n",
              "mths_since_last_delinq        64.662487\n",
              "open_acc                       0.000000\n",
              "pub_rec                        0.000000\n",
              "revol_bal                      0.000000\n",
              "revol_util                     0.125891\n",
              "total_acc                      0.000000\n",
              "initial_list_status            0.000000\n",
              "out_prncp                      0.000000\n",
              "out_prncp_inv                  0.000000\n",
              "total_pymnt                    0.000000\n",
              "total_pymnt_inv                0.000000\n",
              "total_rec_prncp                0.000000\n",
              "total_rec_int                  0.000000\n",
              "total_rec_late_fee             0.000000\n",
              "recoveries                     0.000000\n",
              "collection_recovery_fee        0.000000\n",
              "last_pymnt_d                   0.178765\n",
              "last_pymnt_amnt                0.000000\n",
              "last_credit_pull_d             0.005036\n",
              "collections_12_mths_ex_med     0.140998\n",
              "policy_code                    0.000000\n",
              "application_type               0.000000\n",
              "acc_now_delinq                 0.000000\n",
              "chargeoff_within_12_mths       0.140998\n",
              "delinq_amnt                    0.000000\n",
              "pub_rec_bankruptcies           1.754916\n",
              "tax_liens                      0.098195\n",
              "dtype: float64"
            ]
          },
          "metadata": {},
          "execution_count": 10
        }
      ]
    },
    {
      "cell_type": "code",
      "source": [
        "loans.shape"
      ],
      "metadata": {
        "colab": {
          "base_uri": "https://localhost:8080/"
        },
        "id": "hUXhCdiG9DdV",
        "outputId": "d062047b-3e50-49ef-b40e-bf3cd788a1c9"
      },
      "execution_count": 11,
      "outputs": [
        {
          "output_type": "execute_result",
          "data": {
            "text/plain": [
              "(39717, 55)"
            ]
          },
          "metadata": {},
          "execution_count": 11
        }
      ]
    },
    {
      "cell_type": "code",
      "source": [
        "# looking at the csv, it is quite obvious that these columns can be dropped.\n",
        "# Removing unncessary data\n",
        "loans = loans.drop(['id','member_id','url','desc','purpose','title','zip_code',\n",
        "                 'addr_state','earliest_cr_line','mths_since_last_delinq',\n",
        "                 'revol_util','revol_bal','last_pymnt_d','last_pymnt_amnt'\n",
        "                 ,'last_credit_pull_d'], axis='columns')"
      ],
      "metadata": {
        "id": "_5cc6Qw-9KoZ"
      },
      "execution_count": 12,
      "outputs": []
    },
    {
      "cell_type": "code",
      "source": [
        "loans.shape"
      ],
      "metadata": {
        "colab": {
          "base_uri": "https://localhost:8080/"
        },
        "id": "kCgBRbjJ-LpC",
        "outputId": "57eac262-b7e0-4809-b8b0-ab93f117031b"
      },
      "execution_count": 13,
      "outputs": [
        {
          "output_type": "execute_result",
          "data": {
            "text/plain": [
              "(39717, 40)"
            ]
          },
          "metadata": {},
          "execution_count": 13
        }
      ]
    },
    {
      "cell_type": "code",
      "source": [
        "loans.isnull().sum()*100/loans.shape[0]"
      ],
      "metadata": {
        "colab": {
          "base_uri": "https://localhost:8080/"
        },
        "id": "LalaCVMN_vLO",
        "outputId": "6a6603b8-dfde-46c0-a6e7-824d8075cb65"
      },
      "execution_count": 14,
      "outputs": [
        {
          "output_type": "execute_result",
          "data": {
            "text/plain": [
              "loan_amnt                     0.000000\n",
              "funded_amnt                   0.000000\n",
              "funded_amnt_inv               0.000000\n",
              "term                          0.000000\n",
              "int_rate                      0.000000\n",
              "installment                   0.000000\n",
              "grade                         0.000000\n",
              "sub_grade                     0.000000\n",
              "emp_title                     6.191303\n",
              "emp_length                    2.706650\n",
              "home_ownership                0.000000\n",
              "annual_inc                    0.000000\n",
              "verification_status           0.000000\n",
              "issue_d                       0.000000\n",
              "loan_status                   0.000000\n",
              "pymnt_plan                    0.000000\n",
              "dti                           0.000000\n",
              "delinq_2yrs                   0.000000\n",
              "inq_last_6mths                0.000000\n",
              "open_acc                      0.000000\n",
              "pub_rec                       0.000000\n",
              "total_acc                     0.000000\n",
              "initial_list_status           0.000000\n",
              "out_prncp                     0.000000\n",
              "out_prncp_inv                 0.000000\n",
              "total_pymnt                   0.000000\n",
              "total_pymnt_inv               0.000000\n",
              "total_rec_prncp               0.000000\n",
              "total_rec_int                 0.000000\n",
              "total_rec_late_fee            0.000000\n",
              "recoveries                    0.000000\n",
              "collection_recovery_fee       0.000000\n",
              "collections_12_mths_ex_med    0.140998\n",
              "policy_code                   0.000000\n",
              "application_type              0.000000\n",
              "acc_now_delinq                0.000000\n",
              "chargeoff_within_12_mths      0.140998\n",
              "delinq_amnt                   0.000000\n",
              "pub_rec_bankruptcies          1.754916\n",
              "tax_liens                     0.098195\n",
              "dtype: float64"
            ]
          },
          "metadata": {},
          "execution_count": 14
        }
      ]
    },
    {
      "cell_type": "code",
      "source": [
        "# dropping the column emp_title.\n",
        "# assuming emp_title to a common value might give unexpected results\n",
        "\n",
        "#chargeoff_within_12_mths can be remove as it's almost 0\n",
        "#pub_rec_bankruptcies is almost 0 for all dataset\n",
        "\n",
        "# removing collection_recovery_fee and collections_12_mths_ex_med as well\n",
        "# removing sub_grade\n",
        "## removing tax_aliens since 98% is 0"
      ],
      "metadata": {
        "id": "JWjYRXZeNgWx"
      },
      "execution_count": 15,
      "outputs": []
    },
    {
      "cell_type": "code",
      "source": [
        "loans = loans.drop(['emp_title','pub_rec_bankruptcies','chargeoff_within_12_mths'\n",
        ",'collections_12_mths_ex_med','collection_recovery_fee','collection_recovery_fee'\n",
        ",'sub_grade','tax_liens','issue_d','pymnt_plan','policy_code','initial_list_status'], axis='columns')"
      ],
      "metadata": {
        "id": "6iYiplsiN7op"
      },
      "execution_count": 16,
      "outputs": []
    },
    {
      "cell_type": "markdown",
      "source": [],
      "metadata": {
        "id": "HE2-ZMv_WP_J"
      }
    },
    {
      "cell_type": "code",
      "source": [
        "loans.isnull().sum()"
      ],
      "metadata": {
        "colab": {
          "base_uri": "https://localhost:8080/"
        },
        "id": "vQQhdlR2QY2c",
        "outputId": "31fb1997-ea04-49c7-d552-5f8b4a7cf727"
      },
      "execution_count": 18,
      "outputs": [
        {
          "output_type": "execute_result",
          "data": {
            "text/plain": [
              "loan_amnt                 0\n",
              "funded_amnt               0\n",
              "funded_amnt_inv           0\n",
              "term                      0\n",
              "int_rate                  0\n",
              "installment               0\n",
              "grade                     0\n",
              "emp_length             1075\n",
              "home_ownership            0\n",
              "annual_inc                0\n",
              "verification_status       0\n",
              "loan_status               0\n",
              "dti                       0\n",
              "delinq_2yrs               0\n",
              "inq_last_6mths            0\n",
              "open_acc                  0\n",
              "pub_rec                   0\n",
              "total_acc                 0\n",
              "out_prncp                 0\n",
              "out_prncp_inv             0\n",
              "total_pymnt               0\n",
              "total_pymnt_inv           0\n",
              "total_rec_prncp           0\n",
              "total_rec_int             0\n",
              "total_rec_late_fee        0\n",
              "recoveries                0\n",
              "application_type          0\n",
              "acc_now_delinq            0\n",
              "delinq_amnt               0\n",
              "dtype: int64"
            ]
          },
          "metadata": {},
          "execution_count": 18
        }
      ]
    },
    {
      "cell_type": "code",
      "source": [
        "# just emp_length left which has na values\n",
        "# we can assign replace na with 0\n",
        "loans['emp_length'] = loans['emp_length'].fillna(0)"
      ],
      "metadata": {
        "id": "yuVaOR0SQaVH"
      },
      "execution_count": 19,
      "outputs": []
    },
    {
      "cell_type": "code",
      "source": [
        "loans.shape"
      ],
      "metadata": {
        "colab": {
          "base_uri": "https://localhost:8080/"
        },
        "id": "SQhsWSbcQkhs",
        "outputId": "bd74e022-b52a-4dd1-ad1b-e48cb1c435fb"
      },
      "execution_count": 20,
      "outputs": [
        {
          "output_type": "execute_result",
          "data": {
            "text/plain": [
              "(39717, 29)"
            ]
          },
          "metadata": {},
          "execution_count": 20
        }
      ]
    },
    {
      "cell_type": "code",
      "source": [
        "loans.isnull().sum()"
      ],
      "metadata": {
        "colab": {
          "base_uri": "https://localhost:8080/"
        },
        "id": "RMAIwGDKQ0uj",
        "outputId": "0f08e771-9296-47a7-f631-f4d1e7e2806b"
      },
      "execution_count": 21,
      "outputs": [
        {
          "output_type": "execute_result",
          "data": {
            "text/plain": [
              "loan_amnt              0\n",
              "funded_amnt            0\n",
              "funded_amnt_inv        0\n",
              "term                   0\n",
              "int_rate               0\n",
              "installment            0\n",
              "grade                  0\n",
              "emp_length             0\n",
              "home_ownership         0\n",
              "annual_inc             0\n",
              "verification_status    0\n",
              "loan_status            0\n",
              "dti                    0\n",
              "delinq_2yrs            0\n",
              "inq_last_6mths         0\n",
              "open_acc               0\n",
              "pub_rec                0\n",
              "total_acc              0\n",
              "out_prncp              0\n",
              "out_prncp_inv          0\n",
              "total_pymnt            0\n",
              "total_pymnt_inv        0\n",
              "total_rec_prncp        0\n",
              "total_rec_int          0\n",
              "total_rec_late_fee     0\n",
              "recoveries             0\n",
              "application_type       0\n",
              "acc_now_delinq         0\n",
              "delinq_amnt            0\n",
              "dtype: int64"
            ]
          },
          "metadata": {},
          "execution_count": 21
        }
      ]
    },
    {
      "cell_type": "code",
      "source": [
        "# cool! We are good with dataset, we have got rid of unnecesary columns and null values\n",
        "# there are 28 columns, out of which only 5-8 makes sense to analyze the defaulters i.e. loan_amt, int_rate, term,grade, annual_inc, emp_length,"
      ],
      "metadata": {
        "id": "hT1Wa4eVSXW-"
      },
      "execution_count": null,
      "outputs": []
    },
    {
      "cell_type": "code",
      "source": [
        "loans.info()"
      ],
      "metadata": {
        "colab": {
          "base_uri": "https://localhost:8080/"
        },
        "id": "Xwhf4s1za7aV",
        "outputId": "5dc930dd-411e-488a-87cd-dae4f0c73917"
      },
      "execution_count": 22,
      "outputs": [
        {
          "output_type": "stream",
          "name": "stdout",
          "text": [
            "<class 'pandas.core.frame.DataFrame'>\n",
            "RangeIndex: 39717 entries, 0 to 39716\n",
            "Data columns (total 29 columns):\n",
            " #   Column               Non-Null Count  Dtype  \n",
            "---  ------               --------------  -----  \n",
            " 0   loan_amnt            39717 non-null  int64  \n",
            " 1   funded_amnt          39717 non-null  int64  \n",
            " 2   funded_amnt_inv      39717 non-null  float64\n",
            " 3   term                 39717 non-null  object \n",
            " 4   int_rate             39717 non-null  object \n",
            " 5   installment          39717 non-null  float64\n",
            " 6   grade                39717 non-null  object \n",
            " 7   emp_length           39717 non-null  object \n",
            " 8   home_ownership       39717 non-null  object \n",
            " 9   annual_inc           39717 non-null  float64\n",
            " 10  verification_status  39717 non-null  object \n",
            " 11  loan_status          39717 non-null  object \n",
            " 12  dti                  39717 non-null  float64\n",
            " 13  delinq_2yrs          39717 non-null  int64  \n",
            " 14  inq_last_6mths       39717 non-null  int64  \n",
            " 15  open_acc             39717 non-null  int64  \n",
            " 16  pub_rec              39717 non-null  int64  \n",
            " 17  total_acc            39717 non-null  int64  \n",
            " 18  out_prncp            39717 non-null  float64\n",
            " 19  out_prncp_inv        39717 non-null  float64\n",
            " 20  total_pymnt          39717 non-null  float64\n",
            " 21  total_pymnt_inv      39717 non-null  float64\n",
            " 22  total_rec_prncp      39717 non-null  float64\n",
            " 23  total_rec_int        39717 non-null  float64\n",
            " 24  total_rec_late_fee   39717 non-null  float64\n",
            " 25  recoveries           39717 non-null  float64\n",
            " 26  application_type     39717 non-null  object \n",
            " 27  acc_now_delinq       39717 non-null  int64  \n",
            " 28  delinq_amnt          39717 non-null  int64  \n",
            "dtypes: float64(12), int64(9), object(8)\n",
            "memory usage: 8.8+ MB\n"
          ]
        }
      ]
    },
    {
      "cell_type": "code",
      "source": [
        "# remove months from term\n",
        "loans['term'] = loans['term'].str.replace(' months', '', regex=False)\n",
        "# remove % from int_rate\n",
        "loans['int_rate'] = loans['int_rate'].str.replace('%', '', regex=False)\n",
        "# remove <, + years, year, years from emp_length\n",
        "loans['emp_length'] = loans['emp_length'].str.replace('+ years', '', regex=False)\n",
        "loans['emp_length'] = loans['emp_length'].str.replace('<', '', regex=False)\n",
        "loans['emp_length'] = loans['emp_length'].str.replace(' years', '', regex=False)\n",
        "loans['emp_length'] = loans['emp_length'].str.replace(' year', '', regex=False)"
      ],
      "metadata": {
        "id": "rCDpo5rfa8qv"
      },
      "execution_count": 23,
      "outputs": []
    },
    {
      "cell_type": "code",
      "source": [
        "loans.drop_duplicates() # remove duplicates"
      ],
      "metadata": {
        "colab": {
          "base_uri": "https://localhost:8080/",
          "height": 443
        },
        "id": "-E86XlY1cvQd",
        "outputId": "87361c87-f874-4ec5-820a-f24b4e132b1d"
      },
      "execution_count": 24,
      "outputs": [
        {
          "output_type": "execute_result",
          "data": {
            "text/plain": [
              "       loan_amnt  funded_amnt  funded_amnt_inv term int_rate  installment  \\\n",
              "0           5000         5000           4975.0   36    10.65       162.87   \n",
              "1           2500         2500           2500.0   60    15.27        59.83   \n",
              "2           2400         2400           2400.0   36    15.96        84.33   \n",
              "3          10000        10000          10000.0   36    13.49       339.31   \n",
              "4           3000         3000           3000.0   60    12.69        67.79   \n",
              "...          ...          ...              ...  ...      ...          ...   \n",
              "39712       2500         2500           1075.0   36     8.07        78.42   \n",
              "39713       8500         8500            875.0   36    10.28       275.38   \n",
              "39714       5000         5000           1325.0   36     8.07       156.84   \n",
              "39715       5000         5000            650.0   36     7.43       155.38   \n",
              "39716       7500         7500            800.0   36    13.75       255.43   \n",
              "\n",
              "      grade emp_length home_ownership  annual_inc  ... out_prncp_inv  \\\n",
              "0         B         10           RENT     24000.0  ...          0.00   \n",
              "1         C          1           RENT     30000.0  ...          0.00   \n",
              "2         C         10           RENT     12252.0  ...          0.00   \n",
              "3         C         10           RENT     49200.0  ...          0.00   \n",
              "4         B          1           RENT     80000.0  ...        524.06   \n",
              "...     ...        ...            ...         ...  ...           ...   \n",
              "39712     A          4       MORTGAGE    110000.0  ...          0.00   \n",
              "39713     C          3           RENT     18000.0  ...          0.00   \n",
              "39714     A          1       MORTGAGE    100000.0  ...          0.00   \n",
              "39715     A          1       MORTGAGE    200000.0  ...          0.00   \n",
              "39716     E          1            OWN     22000.0  ...          0.00   \n",
              "\n",
              "        total_pymnt  total_pymnt_inv  total_rec_prncp  total_rec_int  \\\n",
              "0       5863.155187          5833.84          5000.00         863.16   \n",
              "1       1008.710000          1008.71           456.46         435.17   \n",
              "2       3005.666844          3005.67          2400.00         605.67   \n",
              "3      12231.890000         12231.89         10000.00        2214.92   \n",
              "4       3513.330000          3513.33          2475.94        1037.39   \n",
              "...             ...              ...              ...            ...   \n",
              "39712   2822.969293          1213.88          2500.00         322.97   \n",
              "39713   9913.491822          1020.51          8500.00        1413.49   \n",
              "39714   5272.161128          1397.12          5000.00         272.16   \n",
              "39715   5174.198551           672.66          5000.00         174.20   \n",
              "39716   9195.263334           980.83          7500.00        1695.26   \n",
              "\n",
              "       total_rec_late_fee  recoveries  application_type  acc_now_delinq  \\\n",
              "0                    0.00        0.00        INDIVIDUAL               0   \n",
              "1                    0.00      117.08        INDIVIDUAL               0   \n",
              "2                    0.00        0.00        INDIVIDUAL               0   \n",
              "3                   16.97        0.00        INDIVIDUAL               0   \n",
              "4                    0.00        0.00        INDIVIDUAL               0   \n",
              "...                   ...         ...               ...             ...   \n",
              "39712                0.00        0.00        INDIVIDUAL               0   \n",
              "39713                0.00        0.00        INDIVIDUAL               0   \n",
              "39714                0.00        0.00        INDIVIDUAL               0   \n",
              "39715                0.00        0.00        INDIVIDUAL               0   \n",
              "39716                0.00        0.00        INDIVIDUAL               0   \n",
              "\n",
              "       delinq_amnt  \n",
              "0                0  \n",
              "1                0  \n",
              "2                0  \n",
              "3                0  \n",
              "4                0  \n",
              "...            ...  \n",
              "39712            0  \n",
              "39713            0  \n",
              "39714            0  \n",
              "39715            0  \n",
              "39716            0  \n",
              "\n",
              "[39717 rows x 29 columns]"
            ],
            "text/html": [
              "\n",
              "  <div id=\"df-b6ecb4ef-a3a3-459a-8af0-83e42e74983e\" class=\"colab-df-container\">\n",
              "    <div>\n",
              "<style scoped>\n",
              "    .dataframe tbody tr th:only-of-type {\n",
              "        vertical-align: middle;\n",
              "    }\n",
              "\n",
              "    .dataframe tbody tr th {\n",
              "        vertical-align: top;\n",
              "    }\n",
              "\n",
              "    .dataframe thead th {\n",
              "        text-align: right;\n",
              "    }\n",
              "</style>\n",
              "<table border=\"1\" class=\"dataframe\">\n",
              "  <thead>\n",
              "    <tr style=\"text-align: right;\">\n",
              "      <th></th>\n",
              "      <th>loan_amnt</th>\n",
              "      <th>funded_amnt</th>\n",
              "      <th>funded_amnt_inv</th>\n",
              "      <th>term</th>\n",
              "      <th>int_rate</th>\n",
              "      <th>installment</th>\n",
              "      <th>grade</th>\n",
              "      <th>emp_length</th>\n",
              "      <th>home_ownership</th>\n",
              "      <th>annual_inc</th>\n",
              "      <th>...</th>\n",
              "      <th>out_prncp_inv</th>\n",
              "      <th>total_pymnt</th>\n",
              "      <th>total_pymnt_inv</th>\n",
              "      <th>total_rec_prncp</th>\n",
              "      <th>total_rec_int</th>\n",
              "      <th>total_rec_late_fee</th>\n",
              "      <th>recoveries</th>\n",
              "      <th>application_type</th>\n",
              "      <th>acc_now_delinq</th>\n",
              "      <th>delinq_amnt</th>\n",
              "    </tr>\n",
              "  </thead>\n",
              "  <tbody>\n",
              "    <tr>\n",
              "      <th>0</th>\n",
              "      <td>5000</td>\n",
              "      <td>5000</td>\n",
              "      <td>4975.0</td>\n",
              "      <td>36</td>\n",
              "      <td>10.65</td>\n",
              "      <td>162.87</td>\n",
              "      <td>B</td>\n",
              "      <td>10</td>\n",
              "      <td>RENT</td>\n",
              "      <td>24000.0</td>\n",
              "      <td>...</td>\n",
              "      <td>0.00</td>\n",
              "      <td>5863.155187</td>\n",
              "      <td>5833.84</td>\n",
              "      <td>5000.00</td>\n",
              "      <td>863.16</td>\n",
              "      <td>0.00</td>\n",
              "      <td>0.00</td>\n",
              "      <td>INDIVIDUAL</td>\n",
              "      <td>0</td>\n",
              "      <td>0</td>\n",
              "    </tr>\n",
              "    <tr>\n",
              "      <th>1</th>\n",
              "      <td>2500</td>\n",
              "      <td>2500</td>\n",
              "      <td>2500.0</td>\n",
              "      <td>60</td>\n",
              "      <td>15.27</td>\n",
              "      <td>59.83</td>\n",
              "      <td>C</td>\n",
              "      <td>1</td>\n",
              "      <td>RENT</td>\n",
              "      <td>30000.0</td>\n",
              "      <td>...</td>\n",
              "      <td>0.00</td>\n",
              "      <td>1008.710000</td>\n",
              "      <td>1008.71</td>\n",
              "      <td>456.46</td>\n",
              "      <td>435.17</td>\n",
              "      <td>0.00</td>\n",
              "      <td>117.08</td>\n",
              "      <td>INDIVIDUAL</td>\n",
              "      <td>0</td>\n",
              "      <td>0</td>\n",
              "    </tr>\n",
              "    <tr>\n",
              "      <th>2</th>\n",
              "      <td>2400</td>\n",
              "      <td>2400</td>\n",
              "      <td>2400.0</td>\n",
              "      <td>36</td>\n",
              "      <td>15.96</td>\n",
              "      <td>84.33</td>\n",
              "      <td>C</td>\n",
              "      <td>10</td>\n",
              "      <td>RENT</td>\n",
              "      <td>12252.0</td>\n",
              "      <td>...</td>\n",
              "      <td>0.00</td>\n",
              "      <td>3005.666844</td>\n",
              "      <td>3005.67</td>\n",
              "      <td>2400.00</td>\n",
              "      <td>605.67</td>\n",
              "      <td>0.00</td>\n",
              "      <td>0.00</td>\n",
              "      <td>INDIVIDUAL</td>\n",
              "      <td>0</td>\n",
              "      <td>0</td>\n",
              "    </tr>\n",
              "    <tr>\n",
              "      <th>3</th>\n",
              "      <td>10000</td>\n",
              "      <td>10000</td>\n",
              "      <td>10000.0</td>\n",
              "      <td>36</td>\n",
              "      <td>13.49</td>\n",
              "      <td>339.31</td>\n",
              "      <td>C</td>\n",
              "      <td>10</td>\n",
              "      <td>RENT</td>\n",
              "      <td>49200.0</td>\n",
              "      <td>...</td>\n",
              "      <td>0.00</td>\n",
              "      <td>12231.890000</td>\n",
              "      <td>12231.89</td>\n",
              "      <td>10000.00</td>\n",
              "      <td>2214.92</td>\n",
              "      <td>16.97</td>\n",
              "      <td>0.00</td>\n",
              "      <td>INDIVIDUAL</td>\n",
              "      <td>0</td>\n",
              "      <td>0</td>\n",
              "    </tr>\n",
              "    <tr>\n",
              "      <th>4</th>\n",
              "      <td>3000</td>\n",
              "      <td>3000</td>\n",
              "      <td>3000.0</td>\n",
              "      <td>60</td>\n",
              "      <td>12.69</td>\n",
              "      <td>67.79</td>\n",
              "      <td>B</td>\n",
              "      <td>1</td>\n",
              "      <td>RENT</td>\n",
              "      <td>80000.0</td>\n",
              "      <td>...</td>\n",
              "      <td>524.06</td>\n",
              "      <td>3513.330000</td>\n",
              "      <td>3513.33</td>\n",
              "      <td>2475.94</td>\n",
              "      <td>1037.39</td>\n",
              "      <td>0.00</td>\n",
              "      <td>0.00</td>\n",
              "      <td>INDIVIDUAL</td>\n",
              "      <td>0</td>\n",
              "      <td>0</td>\n",
              "    </tr>\n",
              "    <tr>\n",
              "      <th>...</th>\n",
              "      <td>...</td>\n",
              "      <td>...</td>\n",
              "      <td>...</td>\n",
              "      <td>...</td>\n",
              "      <td>...</td>\n",
              "      <td>...</td>\n",
              "      <td>...</td>\n",
              "      <td>...</td>\n",
              "      <td>...</td>\n",
              "      <td>...</td>\n",
              "      <td>...</td>\n",
              "      <td>...</td>\n",
              "      <td>...</td>\n",
              "      <td>...</td>\n",
              "      <td>...</td>\n",
              "      <td>...</td>\n",
              "      <td>...</td>\n",
              "      <td>...</td>\n",
              "      <td>...</td>\n",
              "      <td>...</td>\n",
              "      <td>...</td>\n",
              "    </tr>\n",
              "    <tr>\n",
              "      <th>39712</th>\n",
              "      <td>2500</td>\n",
              "      <td>2500</td>\n",
              "      <td>1075.0</td>\n",
              "      <td>36</td>\n",
              "      <td>8.07</td>\n",
              "      <td>78.42</td>\n",
              "      <td>A</td>\n",
              "      <td>4</td>\n",
              "      <td>MORTGAGE</td>\n",
              "      <td>110000.0</td>\n",
              "      <td>...</td>\n",
              "      <td>0.00</td>\n",
              "      <td>2822.969293</td>\n",
              "      <td>1213.88</td>\n",
              "      <td>2500.00</td>\n",
              "      <td>322.97</td>\n",
              "      <td>0.00</td>\n",
              "      <td>0.00</td>\n",
              "      <td>INDIVIDUAL</td>\n",
              "      <td>0</td>\n",
              "      <td>0</td>\n",
              "    </tr>\n",
              "    <tr>\n",
              "      <th>39713</th>\n",
              "      <td>8500</td>\n",
              "      <td>8500</td>\n",
              "      <td>875.0</td>\n",
              "      <td>36</td>\n",
              "      <td>10.28</td>\n",
              "      <td>275.38</td>\n",
              "      <td>C</td>\n",
              "      <td>3</td>\n",
              "      <td>RENT</td>\n",
              "      <td>18000.0</td>\n",
              "      <td>...</td>\n",
              "      <td>0.00</td>\n",
              "      <td>9913.491822</td>\n",
              "      <td>1020.51</td>\n",
              "      <td>8500.00</td>\n",
              "      <td>1413.49</td>\n",
              "      <td>0.00</td>\n",
              "      <td>0.00</td>\n",
              "      <td>INDIVIDUAL</td>\n",
              "      <td>0</td>\n",
              "      <td>0</td>\n",
              "    </tr>\n",
              "    <tr>\n",
              "      <th>39714</th>\n",
              "      <td>5000</td>\n",
              "      <td>5000</td>\n",
              "      <td>1325.0</td>\n",
              "      <td>36</td>\n",
              "      <td>8.07</td>\n",
              "      <td>156.84</td>\n",
              "      <td>A</td>\n",
              "      <td>1</td>\n",
              "      <td>MORTGAGE</td>\n",
              "      <td>100000.0</td>\n",
              "      <td>...</td>\n",
              "      <td>0.00</td>\n",
              "      <td>5272.161128</td>\n",
              "      <td>1397.12</td>\n",
              "      <td>5000.00</td>\n",
              "      <td>272.16</td>\n",
              "      <td>0.00</td>\n",
              "      <td>0.00</td>\n",
              "      <td>INDIVIDUAL</td>\n",
              "      <td>0</td>\n",
              "      <td>0</td>\n",
              "    </tr>\n",
              "    <tr>\n",
              "      <th>39715</th>\n",
              "      <td>5000</td>\n",
              "      <td>5000</td>\n",
              "      <td>650.0</td>\n",
              "      <td>36</td>\n",
              "      <td>7.43</td>\n",
              "      <td>155.38</td>\n",
              "      <td>A</td>\n",
              "      <td>1</td>\n",
              "      <td>MORTGAGE</td>\n",
              "      <td>200000.0</td>\n",
              "      <td>...</td>\n",
              "      <td>0.00</td>\n",
              "      <td>5174.198551</td>\n",
              "      <td>672.66</td>\n",
              "      <td>5000.00</td>\n",
              "      <td>174.20</td>\n",
              "      <td>0.00</td>\n",
              "      <td>0.00</td>\n",
              "      <td>INDIVIDUAL</td>\n",
              "      <td>0</td>\n",
              "      <td>0</td>\n",
              "    </tr>\n",
              "    <tr>\n",
              "      <th>39716</th>\n",
              "      <td>7500</td>\n",
              "      <td>7500</td>\n",
              "      <td>800.0</td>\n",
              "      <td>36</td>\n",
              "      <td>13.75</td>\n",
              "      <td>255.43</td>\n",
              "      <td>E</td>\n",
              "      <td>1</td>\n",
              "      <td>OWN</td>\n",
              "      <td>22000.0</td>\n",
              "      <td>...</td>\n",
              "      <td>0.00</td>\n",
              "      <td>9195.263334</td>\n",
              "      <td>980.83</td>\n",
              "      <td>7500.00</td>\n",
              "      <td>1695.26</td>\n",
              "      <td>0.00</td>\n",
              "      <td>0.00</td>\n",
              "      <td>INDIVIDUAL</td>\n",
              "      <td>0</td>\n",
              "      <td>0</td>\n",
              "    </tr>\n",
              "  </tbody>\n",
              "</table>\n",
              "<p>39717 rows × 29 columns</p>\n",
              "</div>\n",
              "    <div class=\"colab-df-buttons\">\n",
              "\n",
              "  <div class=\"colab-df-container\">\n",
              "    <button class=\"colab-df-convert\" onclick=\"convertToInteractive('df-b6ecb4ef-a3a3-459a-8af0-83e42e74983e')\"\n",
              "            title=\"Convert this dataframe to an interactive table.\"\n",
              "            style=\"display:none;\">\n",
              "\n",
              "  <svg xmlns=\"http://www.w3.org/2000/svg\" height=\"24px\" viewBox=\"0 -960 960 960\">\n",
              "    <path d=\"M120-120v-720h720v720H120Zm60-500h600v-160H180v160Zm220 220h160v-160H400v160Zm0 220h160v-160H400v160ZM180-400h160v-160H180v160Zm440 0h160v-160H620v160ZM180-180h160v-160H180v160Zm440 0h160v-160H620v160Z\"/>\n",
              "  </svg>\n",
              "    </button>\n",
              "\n",
              "  <style>\n",
              "    .colab-df-container {\n",
              "      display:flex;\n",
              "      gap: 12px;\n",
              "    }\n",
              "\n",
              "    .colab-df-convert {\n",
              "      background-color: #E8F0FE;\n",
              "      border: none;\n",
              "      border-radius: 50%;\n",
              "      cursor: pointer;\n",
              "      display: none;\n",
              "      fill: #1967D2;\n",
              "      height: 32px;\n",
              "      padding: 0 0 0 0;\n",
              "      width: 32px;\n",
              "    }\n",
              "\n",
              "    .colab-df-convert:hover {\n",
              "      background-color: #E2EBFA;\n",
              "      box-shadow: 0px 1px 2px rgba(60, 64, 67, 0.3), 0px 1px 3px 1px rgba(60, 64, 67, 0.15);\n",
              "      fill: #174EA6;\n",
              "    }\n",
              "\n",
              "    .colab-df-buttons div {\n",
              "      margin-bottom: 4px;\n",
              "    }\n",
              "\n",
              "    [theme=dark] .colab-df-convert {\n",
              "      background-color: #3B4455;\n",
              "      fill: #D2E3FC;\n",
              "    }\n",
              "\n",
              "    [theme=dark] .colab-df-convert:hover {\n",
              "      background-color: #434B5C;\n",
              "      box-shadow: 0px 1px 3px 1px rgba(0, 0, 0, 0.15);\n",
              "      filter: drop-shadow(0px 1px 2px rgba(0, 0, 0, 0.3));\n",
              "      fill: #FFFFFF;\n",
              "    }\n",
              "  </style>\n",
              "\n",
              "    <script>\n",
              "      const buttonEl =\n",
              "        document.querySelector('#df-b6ecb4ef-a3a3-459a-8af0-83e42e74983e button.colab-df-convert');\n",
              "      buttonEl.style.display =\n",
              "        google.colab.kernel.accessAllowed ? 'block' : 'none';\n",
              "\n",
              "      async function convertToInteractive(key) {\n",
              "        const element = document.querySelector('#df-b6ecb4ef-a3a3-459a-8af0-83e42e74983e');\n",
              "        const dataTable =\n",
              "          await google.colab.kernel.invokeFunction('convertToInteractive',\n",
              "                                                    [key], {});\n",
              "        if (!dataTable) return;\n",
              "\n",
              "        const docLinkHtml = 'Like what you see? Visit the ' +\n",
              "          '<a target=\"_blank\" href=https://colab.research.google.com/notebooks/data_table.ipynb>data table notebook</a>'\n",
              "          + ' to learn more about interactive tables.';\n",
              "        element.innerHTML = '';\n",
              "        dataTable['output_type'] = 'display_data';\n",
              "        await google.colab.output.renderOutput(dataTable, element);\n",
              "        const docLink = document.createElement('div');\n",
              "        docLink.innerHTML = docLinkHtml;\n",
              "        element.appendChild(docLink);\n",
              "      }\n",
              "    </script>\n",
              "  </div>\n",
              "\n",
              "\n",
              "<div id=\"df-2864ab37-2fa1-4ace-925b-440813d1f776\">\n",
              "  <button class=\"colab-df-quickchart\" onclick=\"quickchart('df-2864ab37-2fa1-4ace-925b-440813d1f776')\"\n",
              "            title=\"Suggest charts\"\n",
              "            style=\"display:none;\">\n",
              "\n",
              "<svg xmlns=\"http://www.w3.org/2000/svg\" height=\"24px\"viewBox=\"0 0 24 24\"\n",
              "     width=\"24px\">\n",
              "    <g>\n",
              "        <path d=\"M19 3H5c-1.1 0-2 .9-2 2v14c0 1.1.9 2 2 2h14c1.1 0 2-.9 2-2V5c0-1.1-.9-2-2-2zM9 17H7v-7h2v7zm4 0h-2V7h2v10zm4 0h-2v-4h2v4z\"/>\n",
              "    </g>\n",
              "</svg>\n",
              "  </button>\n",
              "\n",
              "<style>\n",
              "  .colab-df-quickchart {\n",
              "      --bg-color: #E8F0FE;\n",
              "      --fill-color: #1967D2;\n",
              "      --hover-bg-color: #E2EBFA;\n",
              "      --hover-fill-color: #174EA6;\n",
              "      --disabled-fill-color: #AAA;\n",
              "      --disabled-bg-color: #DDD;\n",
              "  }\n",
              "\n",
              "  [theme=dark] .colab-df-quickchart {\n",
              "      --bg-color: #3B4455;\n",
              "      --fill-color: #D2E3FC;\n",
              "      --hover-bg-color: #434B5C;\n",
              "      --hover-fill-color: #FFFFFF;\n",
              "      --disabled-bg-color: #3B4455;\n",
              "      --disabled-fill-color: #666;\n",
              "  }\n",
              "\n",
              "  .colab-df-quickchart {\n",
              "    background-color: var(--bg-color);\n",
              "    border: none;\n",
              "    border-radius: 50%;\n",
              "    cursor: pointer;\n",
              "    display: none;\n",
              "    fill: var(--fill-color);\n",
              "    height: 32px;\n",
              "    padding: 0;\n",
              "    width: 32px;\n",
              "  }\n",
              "\n",
              "  .colab-df-quickchart:hover {\n",
              "    background-color: var(--hover-bg-color);\n",
              "    box-shadow: 0 1px 2px rgba(60, 64, 67, 0.3), 0 1px 3px 1px rgba(60, 64, 67, 0.15);\n",
              "    fill: var(--button-hover-fill-color);\n",
              "  }\n",
              "\n",
              "  .colab-df-quickchart-complete:disabled,\n",
              "  .colab-df-quickchart-complete:disabled:hover {\n",
              "    background-color: var(--disabled-bg-color);\n",
              "    fill: var(--disabled-fill-color);\n",
              "    box-shadow: none;\n",
              "  }\n",
              "\n",
              "  .colab-df-spinner {\n",
              "    border: 2px solid var(--fill-color);\n",
              "    border-color: transparent;\n",
              "    border-bottom-color: var(--fill-color);\n",
              "    animation:\n",
              "      spin 1s steps(1) infinite;\n",
              "  }\n",
              "\n",
              "  @keyframes spin {\n",
              "    0% {\n",
              "      border-color: transparent;\n",
              "      border-bottom-color: var(--fill-color);\n",
              "      border-left-color: var(--fill-color);\n",
              "    }\n",
              "    20% {\n",
              "      border-color: transparent;\n",
              "      border-left-color: var(--fill-color);\n",
              "      border-top-color: var(--fill-color);\n",
              "    }\n",
              "    30% {\n",
              "      border-color: transparent;\n",
              "      border-left-color: var(--fill-color);\n",
              "      border-top-color: var(--fill-color);\n",
              "      border-right-color: var(--fill-color);\n",
              "    }\n",
              "    40% {\n",
              "      border-color: transparent;\n",
              "      border-right-color: var(--fill-color);\n",
              "      border-top-color: var(--fill-color);\n",
              "    }\n",
              "    60% {\n",
              "      border-color: transparent;\n",
              "      border-right-color: var(--fill-color);\n",
              "    }\n",
              "    80% {\n",
              "      border-color: transparent;\n",
              "      border-right-color: var(--fill-color);\n",
              "      border-bottom-color: var(--fill-color);\n",
              "    }\n",
              "    90% {\n",
              "      border-color: transparent;\n",
              "      border-bottom-color: var(--fill-color);\n",
              "    }\n",
              "  }\n",
              "</style>\n",
              "\n",
              "  <script>\n",
              "    async function quickchart(key) {\n",
              "      const quickchartButtonEl =\n",
              "        document.querySelector('#' + key + ' button');\n",
              "      quickchartButtonEl.disabled = true;  // To prevent multiple clicks.\n",
              "      quickchartButtonEl.classList.add('colab-df-spinner');\n",
              "      try {\n",
              "        const charts = await google.colab.kernel.invokeFunction(\n",
              "            'suggestCharts', [key], {});\n",
              "      } catch (error) {\n",
              "        console.error('Error during call to suggestCharts:', error);\n",
              "      }\n",
              "      quickchartButtonEl.classList.remove('colab-df-spinner');\n",
              "      quickchartButtonEl.classList.add('colab-df-quickchart-complete');\n",
              "    }\n",
              "    (() => {\n",
              "      let quickchartButtonEl =\n",
              "        document.querySelector('#df-2864ab37-2fa1-4ace-925b-440813d1f776 button');\n",
              "      quickchartButtonEl.style.display =\n",
              "        google.colab.kernel.accessAllowed ? 'block' : 'none';\n",
              "    })();\n",
              "  </script>\n",
              "</div>\n",
              "    </div>\n",
              "  </div>\n"
            ]
          },
          "metadata": {},
          "execution_count": 24
        }
      ]
    },
    {
      "cell_type": "code",
      "source": [
        "# change term to int64, int_rate, emp_length from object to float64\n",
        "loans['term'] = loans['term'].astype('int64')\n",
        "loans['int_rate'] = loans['int_rate'].astype('float64')\n",
        "loans['emp_length'] = loans['emp_length'].astype('float64')"
      ],
      "metadata": {
        "id": "sViWIiuGdMHF"
      },
      "execution_count": 25,
      "outputs": []
    },
    {
      "cell_type": "code",
      "source": [
        "loans.info()"
      ],
      "metadata": {
        "colab": {
          "base_uri": "https://localhost:8080/"
        },
        "id": "q3bUrJSJeJy5",
        "outputId": "fe4eb796-e416-46f5-fb0c-652aa4eee4ab"
      },
      "execution_count": 26,
      "outputs": [
        {
          "output_type": "stream",
          "name": "stdout",
          "text": [
            "<class 'pandas.core.frame.DataFrame'>\n",
            "RangeIndex: 39717 entries, 0 to 39716\n",
            "Data columns (total 29 columns):\n",
            " #   Column               Non-Null Count  Dtype  \n",
            "---  ------               --------------  -----  \n",
            " 0   loan_amnt            39717 non-null  int64  \n",
            " 1   funded_amnt          39717 non-null  int64  \n",
            " 2   funded_amnt_inv      39717 non-null  float64\n",
            " 3   term                 39717 non-null  int64  \n",
            " 4   int_rate             39717 non-null  float64\n",
            " 5   installment          39717 non-null  float64\n",
            " 6   grade                39717 non-null  object \n",
            " 7   emp_length           38642 non-null  float64\n",
            " 8   home_ownership       39717 non-null  object \n",
            " 9   annual_inc           39717 non-null  float64\n",
            " 10  verification_status  39717 non-null  object \n",
            " 11  loan_status          39717 non-null  object \n",
            " 12  dti                  39717 non-null  float64\n",
            " 13  delinq_2yrs          39717 non-null  int64  \n",
            " 14  inq_last_6mths       39717 non-null  int64  \n",
            " 15  open_acc             39717 non-null  int64  \n",
            " 16  pub_rec              39717 non-null  int64  \n",
            " 17  total_acc            39717 non-null  int64  \n",
            " 18  out_prncp            39717 non-null  float64\n",
            " 19  out_prncp_inv        39717 non-null  float64\n",
            " 20  total_pymnt          39717 non-null  float64\n",
            " 21  total_pymnt_inv      39717 non-null  float64\n",
            " 22  total_rec_prncp      39717 non-null  float64\n",
            " 23  total_rec_int        39717 non-null  float64\n",
            " 24  total_rec_late_fee   39717 non-null  float64\n",
            " 25  recoveries           39717 non-null  float64\n",
            " 26  application_type     39717 non-null  object \n",
            " 27  acc_now_delinq       39717 non-null  int64  \n",
            " 28  delinq_amnt          39717 non-null  int64  \n",
            "dtypes: float64(14), int64(10), object(5)\n",
            "memory usage: 8.8+ MB\n"
          ]
        }
      ]
    },
    {
      "cell_type": "code",
      "source": [
        "# Separate columns by data type\n",
        "numerical_columns = [col for col in loans.columns if pd.api.types.is_numeric_dtype(loans[col])]\n",
        "categorical_columns = [col for col in loans.columns if loans[col].dtype == 'object']\n"
      ],
      "metadata": {
        "id": "q529-FamePoZ"
      },
      "execution_count": 27,
      "outputs": []
    },
    {
      "cell_type": "code",
      "source": [
        "# univariate data analysis - univariate data analysis doesn't make much sense here, since we have to find the defaulters\n",
        "# and defaulters is based on some other variable i.e. the goal.\n",
        "# let's look at some columns for univariate analysis\n",
        "loans['loan_status'].value_counts().plot(kind='bar')"
      ],
      "metadata": {
        "colab": {
          "base_uri": "https://localhost:8080/",
          "height": 517
        },
        "id": "uzm1052xeu8-",
        "outputId": "dedecb8e-5f5f-410a-ef53-9dd680ccd220"
      },
      "execution_count": 28,
      "outputs": [
        {
          "output_type": "execute_result",
          "data": {
            "text/plain": [
              "<Axes: >"
            ]
          },
          "metadata": {},
          "execution_count": 28
        },
        {
          "output_type": "display_data",
          "data": {
            "text/plain": [
              "<Figure size 640x480 with 1 Axes>"
            ],
            "image/png": "[encoded data removed]"
          },
          "metadata": {}
        }
      ]
    },
    {
      "cell_type": "code",
      "source": [
        "plt.hist(loans['loan_amnt'], bins=2, edgecolor='k')\n",
        "plt.xlabel('loan_amnt')\n",
        "plt.ylabel('Frequency')\n",
        "plt.title('loan amount Distribution')\n",
        "plt.show()"
      ],
      "metadata": {
        "colab": {
          "base_uri": "https://localhost:8080/",
          "height": 472
        },
        "id": "dLruZDI8N8UL",
        "outputId": "3f905775-80ae-41ae-9a4a-e4593c51292f"
      },
      "execution_count": 29,
      "outputs": [
        {
          "output_type": "display_data",
          "data": {
            "text/plain": [
              "<Figure size 640x480 with 1 Axes>"
            ],
            "image/png": "[encoded data removed]"
          },
          "metadata": {}
        }
      ]
    },
    {
      "cell_type": "code",
      "source": [
        "sns.boxplot(x=loans['loan_amnt'])\n",
        "plt.title('Loan amount Distribution Box Plot')\n",
        "plt.show()"
      ],
      "metadata": {
        "colab": {
          "base_uri": "https://localhost:8080/",
          "height": 472
        },
        "id": "uOsHSWacTfYP",
        "outputId": "3b7aed51-4183-4933-df0f-50729330fac3"
      },
      "execution_count": 30,
      "outputs": [
        {
          "output_type": "display_data",
          "data": {
            "text/plain": [
              "<Figure size 640x480 with 1 Axes>"
            ],
            "image/png": "[encoded data removed]"
          },
          "metadata": {}
        }
      ]
    },
    {
      "cell_type": "code",
      "source": [
        "# using box plot and hist chart we can find the spread and identify outliers in the loan amount data. Most of the loan amount is in range tof 5000 to 25000"
      ],
      "metadata": {
        "id": "ZkuAUfXuOUyE"
      },
      "execution_count": null,
      "outputs": []
    },
    {
      "cell_type": "code",
      "source": [
        "plt.hist(loans['int_rate'], bins=2, edgecolor='k')\n",
        "plt.xlabel('int_rate')\n",
        "plt.ylabel('Frequency')\n",
        "plt.title('Interest rate Distribution')\n",
        "plt.show()"
      ],
      "metadata": {
        "colab": {
          "base_uri": "https://localhost:8080/",
          "height": 472
        },
        "id": "1Uvv9KBEOmQE",
        "outputId": "53a1d5d5-4a1a-4609-df15-5d4c0ddfdb92"
      },
      "execution_count": 31,
      "outputs": [
        {
          "output_type": "display_data",
          "data": {
            "text/plain": [
              "<Figure size 640x480 with 1 Axes>"
            ],
            "image/png": "[encoded data removed]"
          },
          "metadata": {}
        }
      ]
    },
    {
      "cell_type": "code",
      "source": [
        "# majority of interest rate lies in the range of 4 to 15."
      ],
      "metadata": {
        "id": "RV5xQT_IOwxO"
      },
      "execution_count": null,
      "outputs": []
    },
    {
      "cell_type": "code",
      "source": [
        "plt.hist(loans['int_rate'], bins=2, edgecolor='k')\n",
        "plt.xlabel('int_rate')\n",
        "plt.ylabel('Frequency')\n",
        "plt.title('Interest rate Distribution')\n",
        "plt.show()"
      ],
      "metadata": {
        "id": "bOqhSkmsPBKj",
        "colab": {
          "base_uri": "https://localhost:8080/",
          "height": 472
        },
        "outputId": "fb813f74-b481-49c9-fc84-7c31e5838bea"
      },
      "execution_count": 32,
      "outputs": [
        {
          "output_type": "display_data",
          "data": {
            "text/plain": [
              "<Figure size 640x480 with 1 Axes>"
            ],
            "image/png": "[encoded data removed]"
          },
          "metadata": {}
        }
      ]
    },
    {
      "cell_type": "code",
      "source": [
        "sns.boxplot(data=loans, y='int_rate', x='loan_status')\n",
        "plt.title('Loan Status vs interest rate Distribution')\n",
        "plt.show()"
      ],
      "metadata": {
        "colab": {
          "base_uri": "https://localhost:8080/",
          "height": 472
        },
        "id": "sCLvN8_rruC_",
        "outputId": "aec6719e-d5cf-462f-fd85-9c307b584683"
      },
      "execution_count": 33,
      "outputs": [
        {
          "output_type": "display_data",
          "data": {
            "text/plain": [
              "<Figure size 640x480 with 1 Axes>"
            ],
            "image/png": "[encoded data removed]"
          },
          "metadata": {}
        }
      ]
    },
    {
      "cell_type": "code",
      "source": [
        "# now let's check bi-variate analysis"
      ],
      "metadata": {
        "id": "v8mfj3ZDPcvF"
      },
      "execution_count": 34,
      "outputs": []
    },
    {
      "cell_type": "code",
      "source": [
        "sns.barplot(data=loans, x='loan_status', y='int_rate')\n",
        "plt.title('Bar Plot of loan_status vs int_rate')\n",
        "plt.show()\n"
      ],
      "metadata": {
        "colab": {
          "base_uri": "https://localhost:8080/",
          "height": 472
        },
        "id": "UGdq4Rcwr7Uz",
        "outputId": "2d99d12e-c591-41d3-b609-0532a5d2211d"
      },
      "execution_count": 35,
      "outputs": [
        {
          "output_type": "display_data",
          "data": {
            "text/plain": [
              "<Figure size 640x480 with 1 Axes>"
            ],
            "image/png": "[encoded data removed]"
          },
          "metadata": {}
        }
      ]
    },
    {
      "cell_type": "code",
      "source": [
        "# above boxplot and barplot tells us that if interest rate is below 12, then the person is likely to pay the loan\n",
        "# however if it crosses 12, then the probability of defaulter increases"
      ],
      "metadata": {
        "id": "xGLFopIBw0tI"
      },
      "execution_count": 36,
      "outputs": []
    },
    {
      "cell_type": "code",
      "source": [
        "sns.barplot(data=loans, x='loan_status', y='loan_amnt')\n",
        "plt.title('Bar Plot of Categorical vs. Numerical')\n",
        "plt.show()"
      ],
      "metadata": {
        "colab": {
          "base_uri": "https://localhost:8080/",
          "height": 472
        },
        "id": "d6tQRHTD3nP_",
        "outputId": "267f2a63-4ca7-40cd-b2f0-d500fd449593"
      },
      "execution_count": 37,
      "outputs": [
        {
          "output_type": "display_data",
          "data": {
            "text/plain": [
              "<Figure size 640x480 with 1 Axes>"
            ],
            "image/png": "[encoded data removed]"
          },
          "metadata": {}
        }
      ]
    },
    {
      "cell_type": "code",
      "source": [
        "# above barplot shows that if loan amount is greater than 10000, then person is likely to deafult"
      ],
      "metadata": {
        "id": "vlC-yfXG4DBl"
      },
      "execution_count": 38,
      "outputs": []
    },
    {
      "cell_type": "code",
      "source": [
        "sns.barplot(data=loans, x='loan_status', y='term')\n",
        "plt.title('Bar Plot of Categorical vs. Numerical')\n",
        "plt.show()"
      ],
      "metadata": {
        "colab": {
          "base_uri": "https://localhost:8080/",
          "height": 472
        },
        "id": "1xn4WyAw4wYq",
        "outputId": "2b7a5af3-065b-4f33-f837-52a357f07546"
      },
      "execution_count": 39,
      "outputs": [
        {
          "output_type": "display_data",
          "data": {
            "text/plain": [
              "<Figure size 640x480 with 1 Axes>"
            ],
            "image/png": "[encoded data removed]"
          },
          "metadata": {}
        }
      ]
    },
    {
      "cell_type": "code",
      "source": [
        "sns.boxplot(data=loans, y='term', x='loan_status')\n",
        "plt.title('Loan Status Distribution')\n",
        "plt.show()"
      ],
      "metadata": {
        "colab": {
          "base_uri": "https://localhost:8080/",
          "height": 472
        },
        "id": "2zaOaGMq5G5A",
        "outputId": "5569cbfb-8ab1-47c8-eaac-b5ea73dfc7dc"
      },
      "execution_count": 40,
      "outputs": [
        {
          "output_type": "display_data",
          "data": {
            "text/plain": [
              "<Figure size 640x480 with 1 Axes>"
            ],
            "image/png": "[encoded data removed]"
          },
          "metadata": {}
        }
      ]
    },
    {
      "cell_type": "code",
      "source": [
        "# the above boxplot and barplot shows that if the number of months is more than 40, then person is likely to default"
      ],
      "metadata": {
        "id": "02g2BMoj5JEc"
      },
      "execution_count": null,
      "outputs": []
    },
    {
      "cell_type": "code",
      "source": [
        "sns.barplot(data=loans, x='loan_status', y='installment')\n",
        "plt.title('Bar Plot of Categorical vs. Numerical')\n",
        "plt.show()\n",
        "\n",
        "# if installments if less than 325, then a person is likely to pay the loan amount"
      ],
      "metadata": {
        "colab": {
          "base_uri": "https://localhost:8080/",
          "height": 472
        },
        "id": "NDeG_0ZU5Q6o",
        "outputId": "400ee3c6-3360-4d8e-df82-59cc2010c974"
      },
      "execution_count": 41,
      "outputs": [
        {
          "output_type": "display_data",
          "data": {
            "text/plain": [
              "<Figure size 640x480 with 1 Axes>"
            ],
            "image/png": "[encoded data removed]"
          },
          "metadata": {}
        }
      ]
    },
    {
      "cell_type": "code",
      "source": [
        "sns.barplot(data=loans, x='loan_status', y='emp_length')\n",
        "plt.title('Bar Plot of Categorical vs. Numerical')\n",
        "plt.show()"
      ],
      "metadata": {
        "colab": {
          "base_uri": "https://localhost:8080/",
          "height": 472
        },
        "id": "0sMVY__f5YcG",
        "outputId": "e3c89bca-b170-4e5f-b15a-793cac3e6bd8"
      },
      "execution_count": 42,
      "outputs": [
        {
          "output_type": "display_data",
          "data": {
            "text/plain": [
              "<Figure size 640x480 with 1 Axes>"
            ],
            "image/png": "[encoded data removed]"
          },
          "metadata": {}
        }
      ]
    },
    {
      "cell_type": "code",
      "source": [
        "sns.barplot(data=loans, x='loan_status', y='annual_inc')\n",
        "plt.title('Bar Plot of Categorical vs. Numerical')\n",
        "plt.show()"
      ],
      "metadata": {
        "colab": {
          "base_uri": "https://localhost:8080/",
          "height": 472
        },
        "id": "RMcygQES5fm8",
        "outputId": "b529d4b0-519b-4897-ec20-eb75f8753452"
      },
      "execution_count": 43,
      "outputs": [
        {
          "output_type": "display_data",
          "data": {
            "text/plain": [
              "<Figure size 640x480 with 1 Axes>"
            ],
            "image/png": "[encoded data removed]"
          },
          "metadata": {}
        }
      ]
    },
    {
      "cell_type": "code",
      "source": [
        "# above plot shows that a person is likely to deafult if he/she has lesser annual income, ideally equal to or below than 60000"
      ],
      "metadata": {
        "id": "ufqUKzzv5sLT"
      },
      "execution_count": null,
      "outputs": []
    },
    {
      "cell_type": "code",
      "source": [
        "sns.countplot(data=loans, x='loan_status', hue='grade')\n",
        "plt.title('loan status vs grade')\n",
        "plt.show()"
      ],
      "metadata": {
        "colab": {
          "base_uri": "https://localhost:8080/",
          "height": 472
        },
        "id": "oQDc2MU850XA",
        "outputId": "393726a1-7f1d-46aa-fe80-73277687a124"
      },
      "execution_count": 44,
      "outputs": [
        {
          "output_type": "display_data",
          "data": {
            "text/plain": [
              "<Figure size 640x480 with 1 Axes>"
            ],
            "image/png": "[encoded data removed]"
          },
          "metadata": {}
        }
      ]
    },
    {
      "cell_type": "code",
      "source": [
        "df_crosstab = pd.crosstab(loans['loan_status'], loans['grade'])\n",
        "df_crosstab.plot(kind='bar', stacked=True)\n",
        "plt.title('Stacked Bar Plot of loan_status vs. grade')\n",
        "plt.show()"
      ],
      "metadata": {
        "colab": {
          "base_uri": "https://localhost:8080/",
          "height": 542
        },
        "id": "PfH8obUo-hJZ",
        "outputId": "b482ee94-051c-4922-9902-2b35edb8b786"
      },
      "execution_count": 45,
      "outputs": [
        {
          "output_type": "display_data",
          "data": {
            "text/plain": [
              "<Figure size 640x480 with 1 Axes>"
            ],
            "image/png": "[encoded data removed]"
          },
          "metadata": {}
        }
      ]
    },
    {
      "cell_type": "code",
      "source": [
        "sns.countplot(data=loans, x='loan_status', hue='home_ownership')\n",
        "plt.title('loan status vs home_ownership')\n",
        "plt.show()"
      ],
      "metadata": {
        "colab": {
          "base_uri": "https://localhost:8080/",
          "height": 472
        },
        "id": "AFWPURSn-1m_",
        "outputId": "ca330da8-a0be-48e1-ff21-2d1104f8b6ae"
      },
      "execution_count": 46,
      "outputs": [
        {
          "output_type": "display_data",
          "data": {
            "text/plain": [
              "<Figure size 640x480 with 1 Axes>"
            ],
            "image/png": "[encoded data removed]"
          },
          "metadata": {}
        }
      ]
    },
    {
      "cell_type": "code",
      "source": [
        "sns.countplot(data=loans, x='loan_status', hue='verification_status')\n",
        "plt.title('loan status vs home_ownership')\n",
        "plt.show()"
      ],
      "metadata": {
        "colab": {
          "base_uri": "https://localhost:8080/",
          "height": 472
        },
        "id": "UdFplTbz_ClJ",
        "outputId": "dc3a26a1-d0cf-4581-ddd7-962d714f241c"
      },
      "execution_count": 47,
      "outputs": [
        {
          "output_type": "display_data",
          "data": {
            "text/plain": [
              "<Figure size 640x480 with 1 Axes>"
            ],
            "image/png": "[encoded data removed]"
          },
          "metadata": {}
        }
      ]
    },
    {
      "cell_type": "code",
      "source": [
        "sns.countplot(data=loans, x='loan_status', hue='application_type')\n",
        "plt.title('loan status vs home_ownership')\n",
        "plt.show()"
      ],
      "metadata": {
        "colab": {
          "base_uri": "https://localhost:8080/",
          "height": 472
        },
        "id": "FOBUcbdo_tj0",
        "outputId": "8a8e0ce0-8830-45b8-f821-7e3709c4758b"
      },
      "execution_count": 48,
      "outputs": [
        {
          "output_type": "display_data",
          "data": {
            "text/plain": [
              "<Figure size 640x480 with 1 Axes>"
            ],
            "image/png": "[encoded data removed]"
          },
          "metadata": {}
        }
      ]
    },
    {
      "cell_type": "code",
      "source": [
        "# home ownership is of only INDIVIDUAL type, so this doesnt help in prediction"
      ],
      "metadata": {
        "id": "K5-poEFa_wQk"
      },
      "execution_count": 49,
      "outputs": []
    },
    {
      "cell_type": "code",
      "source": [
        "# the categorical(like home_ownership, grade and application_type) vs categorical variables(loan_status) , didn't give us any concrete result."
      ],
      "metadata": {
        "id": "o9AdB5KHZoce"
      },
      "execution_count": 50,
      "outputs": []
    },
    {
      "cell_type": "code",
      "source": [],
      "metadata": {
        "id": "eVxxTBqpXpBi"
      },
      "execution_count": null,
      "outputs": []
    }
  ]
}